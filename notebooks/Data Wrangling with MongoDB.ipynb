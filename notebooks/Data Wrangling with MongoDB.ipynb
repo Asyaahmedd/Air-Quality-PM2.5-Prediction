{
 "cells": [
  {
   "cell_type": "markdown",
   "metadata": {},
   "source": [
    "# Wrangling Data with MongoDB\n",
    "Data comes to us in lots of different ways, and one of those ways is in a database. A database is a collection of data. In that project I'm working with a MongoDB database ."
   ]
  },
  {
   "cell_type": "markdown",
   "metadata": {},
   "source": [
    "## Import necessary libraries"
   ]
  },
  {
   "cell_type": "code",
   "execution_count": 1,
   "metadata": {},
   "outputs": [],
   "source": [
    "from pprint import PrettyPrinter # a module that lets us see the data in an understandable way\n",
    "import pandas as pd\n",
    "from pymongo import MongoClient # a library for working with MongoDB databases)"
   ]
  },
  {
   "cell_type": "code",
   "execution_count": 2,
   "metadata": {},
   "outputs": [],
   "source": [
    "#Construct a PrettyPrinter instance in pprint.\n",
    "pp =PrettyPrinter(indent=2)"
   ]
  },
  {
   "cell_type": "markdown",
   "metadata": {},
   "source": [
    "## Prepare Data"
   ]
  },
  {
   "cell_type": "markdown",
   "metadata": {},
   "source": [
    "### Connect\n",
    "\n",
    "Create a client that connects to the database running at localhost on port 27017\n"
   ]
  },
  {
   "cell_type": "code",
   "execution_count": 3,
   "metadata": {},
   "outputs": [],
   "source": [
    "client = MongoClient(host=\"localhost\",port=27017)"
   ]
  },
  {
   "cell_type": "markdown",
   "metadata": {},
   "source": [
    "### Explore"
   ]
  },
  {
   "cell_type": "code",
   "execution_count": 4,
   "metadata": {},
   "outputs": [
    {
     "name": "stdout",
     "output_type": "stream",
     "text": [
      "[ {'empty': False, 'name': 'admin', 'sizeOnDisk': 40960.0},\n",
      "  {'empty': False, 'name': 'air_quality', 'sizeOnDisk': 29630464.0},\n",
      "  {'empty': False, 'name': 'config', 'sizeOnDisk': 36864.0},\n",
      "  {'empty': False, 'name': 'local', 'sizeOnDisk': 73728.0}]\n"
     ]
    }
   ],
   "source": [
    "#Print a list of the databases available on client\n",
    "pp.pprint(list(client.list_databases()))\n"
   ]
  },
  {
   "cell_type": "code",
   "execution_count": 5,
   "metadata": {},
   "outputs": [],
   "source": [
    "#Assign the \"air-quality\" database to the variable db.\n",
    "db = client['air_quality']"
   ]
  },
  {
   "cell_type": "code",
   "execution_count": 6,
   "metadata": {},
   "outputs": [
    {
     "name": "stdout",
     "output_type": "stream",
     "text": [
      "nairobi\n"
     ]
    }
   ],
   "source": [
    "#Use the list_collections method to print a list of the collections available in db\n",
    "for c in db.list_collections():\n",
    "    print(c[\"name\"])"
   ]
  },
  {
   "cell_type": "code",
   "execution_count": 7,
   "metadata": {},
   "outputs": [],
   "source": [
    "# Assign the \"nairobi\" collection in db to the variable name nairobi\n",
    "nairobi = db[\"nairobi\"]"
   ]
  },
  {
   "cell_type": "code",
   "execution_count": 8,
   "metadata": {},
   "outputs": [
    {
     "data": {
      "text/plain": [
       "755258"
      ]
     },
     "execution_count": 8,
     "metadata": {},
     "output_type": "execute_result"
    }
   ],
   "source": [
    "#Use the count_documents method to see how many documents are in the nairobi collection.\n",
    "nairobi.count_documents({})"
   ]
  },
  {
   "cell_type": "code",
   "execution_count": 9,
   "metadata": {},
   "outputs": [
    {
     "name": "stdout",
     "output_type": "stream",
     "text": [
      "{ '_id': ObjectId('64332a5399eb1d5ef3f08dde'),\n",
      "  'lat': -1.3,\n",
      "  'location': 29,\n",
      "  'lon': 36.785,\n",
      "  'sensor_id': 57,\n",
      "  'sensor_type': 'SDS011',\n",
      "  'timestamp': datetime.datetime(2018, 9, 1, 0, 0, 2, 472000),\n",
      "  'value': 34.43,\n",
      "  'value_type': 'P2'}\n"
     ]
    }
   ],
   "source": [
    "#Use the find_one method to retrieve one document from the nairobi collection\n",
    "result = nairobi.find_one({})\n",
    "pp.pprint(result)"
   ]
  },
  {
   "cell_type": "code",
   "execution_count": 10,
   "metadata": {},
   "outputs": [
    {
     "data": {
      "text/plain": [
       "[6,\n",
       " 7,\n",
       " 8,\n",
       " 25,\n",
       " 26,\n",
       " 27,\n",
       " 28,\n",
       " 29,\n",
       " 30,\n",
       " 31,\n",
       " 32,\n",
       " 33,\n",
       " 34,\n",
       " 35,\n",
       " 36,\n",
       " 37,\n",
       " 38,\n",
       " 40,\n",
       " 41,\n",
       " 43,\n",
       " 44,\n",
       " 49]"
      ]
     },
     "execution_count": 10,
     "metadata": {},
     "output_type": "execute_result"
    }
   ],
   "source": [
    "#Use the distinct method to determine how many sensor sites are included in the nairobi collection.\n",
    "nairobi.distinct(\"location\")"
   ]
  },
  {
   "cell_type": "code",
   "execution_count": 11,
   "metadata": {},
   "outputs": [
    {
     "name": "stdout",
     "output_type": "stream",
     "text": [
      "Documents from site 6: 211376\n",
      "Documents from site 29: 63466\n"
     ]
    }
   ],
   "source": [
    "# Determine how many readings there are for each site in the nairobi collection.\n",
    "print(\"Documents from site 6:\", nairobi.count_documents({\"location\":7}))\n",
    "print(\"Documents from site 29:\", nairobi.count_documents({\"location\":29}))"
   ]
  },
  {
   "cell_type": "code",
   "execution_count": 12,
   "metadata": {},
   "outputs": [
    {
     "name": "stdout",
     "output_type": "stream",
     "text": [
      "[ {'_id': 29, 'count': 63466},\n",
      "  {'_id': 36, 'count': 1850},\n",
      "  {'_id': 25, 'count': 38052},\n",
      "  {'_id': 31, 'count': 53928},\n",
      "  {'_id': 27, 'count': 60704},\n",
      "  {'_id': 43, 'count': 894},\n",
      "  {'_id': 6, 'count': 34050},\n",
      "  {'_id': 49, 'count': 2},\n",
      "  {'_id': 26, 'count': 27450},\n",
      "  {'_id': 30, 'count': 55280},\n",
      "  {'_id': 7, 'count': 211376},\n",
      "  {'_id': 8, 'count': 17662},\n",
      "  {'_id': 37, 'count': 40410},\n",
      "  {'_id': 34, 'count': 42178},\n",
      "  {'_id': 35, 'count': 26020},\n",
      "  {'_id': 32, 'count': 7924},\n",
      "  {'_id': 33, 'count': 8978},\n",
      "  {'_id': 28, 'count': 12846},\n",
      "  {'_id': 38, 'count': 30520},\n",
      "  {'_id': 44, 'count': 6394},\n",
      "  {'_id': 40, 'count': 7590},\n",
      "  {'_id': 41, 'count': 7684}]\n"
     ]
    }
   ],
   "source": [
    "#Use the aggregate method to determine how many readings there are for each site in the nairobi collection.\n",
    "result =nairobi.aggregate([\n",
    "    {\"$group\" : {\"_id\":\"$location\", \"count\":{\"$sum\":1}}}\n",
    "])\n",
    "pp.pprint(list(result))"
   ]
  },
  {
   "cell_type": "code",
   "execution_count": 13,
   "metadata": {},
   "outputs": [
    {
     "data": {
      "text/plain": [
       "['P1', 'P2', 'humidity', 'temperature']"
      ]
     },
     "execution_count": 13,
     "metadata": {},
     "output_type": "execute_result"
    }
   ],
   "source": [
    "#determine how many types of measurements have been taken in the nairobi collection.\n",
    "nairobi.distinct(\"value_type\")"
   ]
  },
  {
   "cell_type": "code",
   "execution_count": 14,
   "metadata": {},
   "outputs": [
    {
     "name": "stdout",
     "output_type": "stream",
     "text": [
      "[ { '_id': ObjectId('64332a5399eb1d5ef3f08dde'),\n",
      "    'lat': -1.3,\n",
      "    'location': 29,\n",
      "    'lon': 36.785,\n",
      "    'sensor_id': 57,\n",
      "    'sensor_type': 'SDS011',\n",
      "    'timestamp': datetime.datetime(2018, 9, 1, 0, 0, 2, 472000),\n",
      "    'value': 34.43,\n",
      "    'value_type': 'P2'},\n",
      "  { '_id': ObjectId('64332a5399eb1d5ef3f08de2'),\n",
      "    'lat': -1.298,\n",
      "    'location': 7,\n",
      "    'lon': 36.791,\n",
      "    'sensor_id': 69,\n",
      "    'sensor_type': 'SDS011',\n",
      "    'timestamp': datetime.datetime(2018, 9, 1, 0, 0, 7, 536000),\n",
      "    'value': 16.63,\n",
      "    'value_type': 'P2'},\n",
      "  { '_id': ObjectId('64332a5399eb1d5ef3f08de7'),\n",
      "    'lat': -1.298,\n",
      "    'location': 7,\n",
      "    'lon': 36.791,\n",
      "    'sensor_id': 40,\n",
      "    'sensor_type': 'SDS011',\n",
      "    'timestamp': datetime.datetime(2018, 9, 1, 0, 0, 26, 722000),\n",
      "    'value': 19.3,\n",
      "    'value_type': 'P2'}]\n"
     ]
    }
   ],
   "source": [
    "#retrieve the PM 2.5 readings from all sites. \n",
    "result = nairobi.find({\"value_type\":\"P2\"}).limit(3)\n",
    "pp.pprint(list(result))"
   ]
  },
  {
   "cell_type": "code",
   "execution_count": 15,
   "metadata": {},
   "outputs": [
    {
     "name": "stdout",
     "output_type": "stream",
     "text": [
      "[ {'_id': 'P1', 'count': 60719},\n",
      "  {'_id': 'temperature', 'count': 44969},\n",
      "  {'_id': 'P2', 'count': 60719},\n",
      "  {'_id': 'humidity', 'count': 44969}]\n"
     ]
    }
   ],
   "source": [
    "#Calculate how many readings there are for each type (\"humidity\", \"temperature\", \"P2\", and \"P1\") in site 7\n",
    "result = nairobi.aggregate(\n",
    "    [\n",
    "        {\"$match\":{\"location\":7}},\n",
    "        {\"$group\" : {\"_id\":\"$value_type\", \"count\":{\"$sum\":1}}}\n",
    "    ]\n",
    ")\n",
    "pp.pprint(list(result))"
   ]
  },
  {
   "cell_type": "code",
   "execution_count": 18,
   "metadata": {},
   "outputs": [
    {
     "name": "stdout",
     "output_type": "stream",
     "text": [
      "[ {'_id': 'P1', 'count': 15848},\n",
      "  {'_id': 'humidity', 'count': 15885},\n",
      "  {'_id': 'temperature', 'count': 15885},\n",
      "  {'_id': 'P2', 'count': 15848}]\n"
     ]
    }
   ],
   "source": [
    "#Calculate how many readings there are for each type (\"humidity\", \"temperature\", \"P2\", and \"P1\") in site 29\n",
    "result = nairobi.aggregate(\n",
    "    [\n",
    "        {\"$match\":{\"location\":29}},\n",
    "        {\"$group\" : {\"_id\":\"$value_type\", \"count\":{\"$sum\":1}}}\n",
    "    ]\n",
    ")\n",
    "pp.pprint(list(result))"
   ]
  },
  {
   "cell_type": "code",
   "execution_count": 19,
   "metadata": {},
   "outputs": [
    {
     "name": "stdout",
     "output_type": "stream",
     "text": [
      "{'timestamp': datetime.datetime(2018, 9, 1, 0, 0, 7, 536000), 'value': 16.63}\n"
     ]
    }
   ],
   "source": [
    "result = nairobi.find(\n",
    "    {\"location\":7,\"value_type\":\"P2\"},\n",
    "    projection={\"value\":1,\"timestamp\":1,\"_id\":0}\n",
    ")\n",
    "pp.pprint(result.next())"
   ]
  },
  {
   "cell_type": "code",
   "execution_count": 20,
   "metadata": {},
   "outputs": [
    {
     "data": {
      "text/html": [
       "<div>\n",
       "<style scoped>\n",
       "    .dataframe tbody tr th:only-of-type {\n",
       "        vertical-align: middle;\n",
       "    }\n",
       "\n",
       "    .dataframe tbody tr th {\n",
       "        vertical-align: top;\n",
       "    }\n",
       "\n",
       "    .dataframe thead th {\n",
       "        text-align: right;\n",
       "    }\n",
       "</style>\n",
       "<table border=\"1\" class=\"dataframe\">\n",
       "  <thead>\n",
       "    <tr style=\"text-align: right;\">\n",
       "      <th></th>\n",
       "      <th>P2</th>\n",
       "    </tr>\n",
       "    <tr>\n",
       "      <th>timestamp</th>\n",
       "      <th></th>\n",
       "    </tr>\n",
       "  </thead>\n",
       "  <tbody>\n",
       "    <tr>\n",
       "      <th>2018-09-01 00:00:26.722</th>\n",
       "      <td>19.30</td>\n",
       "    </tr>\n",
       "    <tr>\n",
       "      <th>2018-09-01 00:00:43.434</th>\n",
       "      <td>16.90</td>\n",
       "    </tr>\n",
       "    <tr>\n",
       "      <th>2018-09-01 00:01:19.344</th>\n",
       "      <td>16.10</td>\n",
       "    </tr>\n",
       "    <tr>\n",
       "      <th>2018-09-01 00:01:26.343</th>\n",
       "      <td>10.83</td>\n",
       "    </tr>\n",
       "    <tr>\n",
       "      <th>2018-09-01 00:01:29.906</th>\n",
       "      <td>18.47</td>\n",
       "    </tr>\n",
       "  </tbody>\n",
       "</table>\n",
       "</div>"
      ],
      "text/plain": [
       "                            P2\n",
       "timestamp                     \n",
       "2018-09-01 00:00:26.722  19.30\n",
       "2018-09-01 00:00:43.434  16.90\n",
       "2018-09-01 00:01:19.344  16.10\n",
       "2018-09-01 00:01:26.343  10.83\n",
       "2018-09-01 00:01:29.906  18.47"
      ]
     },
     "execution_count": 20,
     "metadata": {},
     "output_type": "execute_result"
    }
   ],
   "source": [
    "#Read records from last result into the DataFrame df\n",
    "df = pd.DataFrame(result).set_index(\"timestamp\")\n",
    "df.columns = ['P2']\n",
    "df.head()"
   ]
  },
  {
   "cell_type": "code",
   "execution_count": 21,
   "metadata": {},
   "outputs": [],
   "source": [
    "df.to_csv(\"D:\\WorldQuant\\Project3 air quality\\data\\my_data2.csv\")\n"
   ]
  }
 ],
 "metadata": {
  "kernelspec": {
   "display_name": "Python 3",
   "language": "python",
   "name": "python3"
  },
  "language_info": {
   "codemirror_mode": {
    "name": "ipython",
    "version": 3
   },
   "file_extension": ".py",
   "mimetype": "text/x-python",
   "name": "python",
   "nbconvert_exporter": "python",
   "pygments_lexer": "ipython3",
   "version": "3.7.4"
  }
 },
 "nbformat": 4,
 "nbformat_minor": 2
}
