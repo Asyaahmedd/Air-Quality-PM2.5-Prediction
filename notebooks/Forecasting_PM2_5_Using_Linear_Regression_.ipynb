{
  "nbformat": 4,
  "nbformat_minor": 0,
  "metadata": {
    "colab": {
      "provenance": []
    },
    "kernelspec": {
      "name": "python3",
      "display_name": "Python 3"
    },
    "language_info": {
      "name": "python"
    }
  },
  "cells": [
    {
      "cell_type": "markdown",
      "source": [
        "# Import necessary libraries"
      ],
      "metadata": {
        "id": "8-trX9WNemcY"
      }
    },
    {
      "cell_type": "code",
      "execution_count": 2,
      "metadata": {
        "id": "-y12IhxYQxSl"
      },
      "outputs": [],
      "source": [
        "import matplotlib.pyplot as plt\n",
        "import pandas as pd\n",
        "import plotly.express as px\n",
        "import pytz\n",
        "from IPython.display import VimeoVideo\n",
        "from sklearn.linear_model import LinearRegression\n",
        "from sklearn.metrics import mean_absolute_error"
      ]
    },
    {
      "cell_type": "markdown",
      "source": [
        "#Load dataset"
      ],
      "metadata": {
        "id": "kBS-0XqIf4i0"
      }
    },
    {
      "cell_type": "code",
      "source": [
        "df = pd.read_csv(\"/content/drive/MyDrive/september_2018_sensor_data_archive.csv\")\n",
        "df.head()"
      ],
      "metadata": {
        "colab": {
          "base_uri": "https://localhost:8080/",
          "height": 206
        },
        "id": "ZG2UouqQf326",
        "outputId": "d168589e-6786-440c-81cf-adac8eff624a"
      },
      "execution_count": 10,
      "outputs": [
        {
          "output_type": "execute_result",
          "data": {
            "text/plain": [
              "                 timestamp     P2\n",
              "0  2018-09-01 00:00:26.722  19.30\n",
              "1  2018-09-01 00:00:43.434  16.90\n",
              "2  2018-09-01 00:01:19.344  16.10\n",
              "3  2018-09-01 00:01:26.343  10.83\n",
              "4  2018-09-01 00:01:29.906  18.47"
            ],
            "text/html": [
              "\n",
              "  <div id=\"df-dbb419eb-8f3a-4ebe-9e39-6f60a45c3511\">\n",
              "    <div class=\"colab-df-container\">\n",
              "      <div>\n",
              "<style scoped>\n",
              "    .dataframe tbody tr th:only-of-type {\n",
              "        vertical-align: middle;\n",
              "    }\n",
              "\n",
              "    .dataframe tbody tr th {\n",
              "        vertical-align: top;\n",
              "    }\n",
              "\n",
              "    .dataframe thead th {\n",
              "        text-align: right;\n",
              "    }\n",
              "</style>\n",
              "<table border=\"1\" class=\"dataframe\">\n",
              "  <thead>\n",
              "    <tr style=\"text-align: right;\">\n",
              "      <th></th>\n",
              "      <th>timestamp</th>\n",
              "      <th>P2</th>\n",
              "    </tr>\n",
              "  </thead>\n",
              "  <tbody>\n",
              "    <tr>\n",
              "      <th>0</th>\n",
              "      <td>2018-09-01 00:00:26.722</td>\n",
              "      <td>19.30</td>\n",
              "    </tr>\n",
              "    <tr>\n",
              "      <th>1</th>\n",
              "      <td>2018-09-01 00:00:43.434</td>\n",
              "      <td>16.90</td>\n",
              "    </tr>\n",
              "    <tr>\n",
              "      <th>2</th>\n",
              "      <td>2018-09-01 00:01:19.344</td>\n",
              "      <td>16.10</td>\n",
              "    </tr>\n",
              "    <tr>\n",
              "      <th>3</th>\n",
              "      <td>2018-09-01 00:01:26.343</td>\n",
              "      <td>10.83</td>\n",
              "    </tr>\n",
              "    <tr>\n",
              "      <th>4</th>\n",
              "      <td>2018-09-01 00:01:29.906</td>\n",
              "      <td>18.47</td>\n",
              "    </tr>\n",
              "  </tbody>\n",
              "</table>\n",
              "</div>\n",
              "      <button class=\"colab-df-convert\" onclick=\"convertToInteractive('df-dbb419eb-8f3a-4ebe-9e39-6f60a45c3511')\"\n",
              "              title=\"Convert this dataframe to an interactive table.\"\n",
              "              style=\"display:none;\">\n",
              "        \n",
              "  <svg xmlns=\"http://www.w3.org/2000/svg\" height=\"24px\"viewBox=\"0 0 24 24\"\n",
              "       width=\"24px\">\n",
              "    <path d=\"M0 0h24v24H0V0z\" fill=\"none\"/>\n",
              "    <path d=\"M18.56 5.44l.94 2.06.94-2.06 2.06-.94-2.06-.94-.94-2.06-.94 2.06-2.06.94zm-11 1L8.5 8.5l.94-2.06 2.06-.94-2.06-.94L8.5 2.5l-.94 2.06-2.06.94zm10 10l.94 2.06.94-2.06 2.06-.94-2.06-.94-.94-2.06-.94 2.06-2.06.94z\"/><path d=\"M17.41 7.96l-1.37-1.37c-.4-.4-.92-.59-1.43-.59-.52 0-1.04.2-1.43.59L10.3 9.45l-7.72 7.72c-.78.78-.78 2.05 0 2.83L4 21.41c.39.39.9.59 1.41.59.51 0 1.02-.2 1.41-.59l7.78-7.78 2.81-2.81c.8-.78.8-2.07 0-2.86zM5.41 20L4 18.59l7.72-7.72 1.47 1.35L5.41 20z\"/>\n",
              "  </svg>\n",
              "      </button>\n",
              "      \n",
              "  <style>\n",
              "    .colab-df-container {\n",
              "      display:flex;\n",
              "      flex-wrap:wrap;\n",
              "      gap: 12px;\n",
              "    }\n",
              "\n",
              "    .colab-df-convert {\n",
              "      background-color: #E8F0FE;\n",
              "      border: none;\n",
              "      border-radius: 50%;\n",
              "      cursor: pointer;\n",
              "      display: none;\n",
              "      fill: #1967D2;\n",
              "      height: 32px;\n",
              "      padding: 0 0 0 0;\n",
              "      width: 32px;\n",
              "    }\n",
              "\n",
              "    .colab-df-convert:hover {\n",
              "      background-color: #E2EBFA;\n",
              "      box-shadow: 0px 1px 2px rgba(60, 64, 67, 0.3), 0px 1px 3px 1px rgba(60, 64, 67, 0.15);\n",
              "      fill: #174EA6;\n",
              "    }\n",
              "\n",
              "    [theme=dark] .colab-df-convert {\n",
              "      background-color: #3B4455;\n",
              "      fill: #D2E3FC;\n",
              "    }\n",
              "\n",
              "    [theme=dark] .colab-df-convert:hover {\n",
              "      background-color: #434B5C;\n",
              "      box-shadow: 0px 1px 3px 1px rgba(0, 0, 0, 0.15);\n",
              "      filter: drop-shadow(0px 1px 2px rgba(0, 0, 0, 0.3));\n",
              "      fill: #FFFFFF;\n",
              "    }\n",
              "  </style>\n",
              "\n",
              "      <script>\n",
              "        const buttonEl =\n",
              "          document.querySelector('#df-dbb419eb-8f3a-4ebe-9e39-6f60a45c3511 button.colab-df-convert');\n",
              "        buttonEl.style.display =\n",
              "          google.colab.kernel.accessAllowed ? 'block' : 'none';\n",
              "\n",
              "        async function convertToInteractive(key) {\n",
              "          const element = document.querySelector('#df-dbb419eb-8f3a-4ebe-9e39-6f60a45c3511');\n",
              "          const dataTable =\n",
              "            await google.colab.kernel.invokeFunction('convertToInteractive',\n",
              "                                                     [key], {});\n",
              "          if (!dataTable) return;\n",
              "\n",
              "          const docLinkHtml = 'Like what you see? Visit the ' +\n",
              "            '<a target=\"_blank\" href=https://colab.research.google.com/notebooks/data_table.ipynb>data table notebook</a>'\n",
              "            + ' to learn more about interactive tables.';\n",
              "          element.innerHTML = '';\n",
              "          dataTable['output_type'] = 'display_data';\n",
              "          await google.colab.output.renderOutput(dataTable, element);\n",
              "          const docLink = document.createElement('div');\n",
              "          docLink.innerHTML = docLinkHtml;\n",
              "          element.appendChild(docLink);\n",
              "        }\n",
              "      </script>\n",
              "    </div>\n",
              "  </div>\n",
              "  "
            ]
          },
          "metadata": {},
          "execution_count": 10
        }
      ]
    },
    {
      "cell_type": "markdown",
      "source": [
        "# Prepare Data"
      ],
      "metadata": {
        "id": "mpbH--7ipaOp"
      }
    },
    {
      "cell_type": "code",
      "source": [
        "# Convert the \"timestamp\" column to a DatetimeIndex\n",
        "df[\"timestamp\"] = pd.to_datetime(df[\"timestamp\"], infer_datetime_format=True)\n",
        "df.set_index(\"timestamp\", inplace=True)"
      ],
      "metadata": {
        "id": "Xv-IQ5Repkbn"
      },
      "execution_count": 11,
      "outputs": []
    },
    {
      "cell_type": "code",
      "source": [
        "df.index"
      ],
      "metadata": {
        "colab": {
          "base_uri": "https://localhost:8080/"
        },
        "id": "0Ua67WQ-owPz",
        "outputId": "47b88110-d14a-4898-d7da-257bfbd434d4"
      },
      "execution_count": 8,
      "outputs": [
        {
          "output_type": "execute_result",
          "data": {
            "text/plain": [
              "Index(['2018-09-01 00:00:26.722', '2018-09-01 00:00:43.434',\n",
              "       '2018-09-01 00:01:19.344', '2018-09-01 00:01:26.343',\n",
              "       '2018-09-01 00:01:29.906', '2018-09-01 00:01:55.249',\n",
              "       '2018-09-01 00:01:58.020', '2018-09-01 00:02:31.149',\n",
              "       '2018-09-01 00:02:56.864', '2018-09-01 00:03:07.001',\n",
              "       ...\n",
              "       '2018-09-30 23:50:47.248', '2018-09-30 23:52:45.173',\n",
              "       '2018-09-30 23:52:47.873', '2018-09-30 23:53:15.733',\n",
              "       '2018-09-30 23:55:15.116', '2018-09-30 23:55:19.018',\n",
              "       '2018-09-30 23:55:44.216', '2018-09-30 23:57:44.955',\n",
              "       '2018-09-30 23:57:49.369', '2018-09-30 23:58:12.719'],\n",
              "      dtype='object', name='timestamp', length=60718)"
            ]
          },
          "metadata": {},
          "execution_count": 8
        }
      ]
    },
    {
      "cell_type": "markdown",
      "source": [
        "All the timestamps are in UTC so I need to Localize a timestamp in the Africa/Nairobi time zone."
      ],
      "metadata": {
        "id": "hRGeTwp2ppRl"
      }
    },
    {
      "cell_type": "code",
      "source": [
        "# Localize timezone\n",
        "df.index = df.index.tz_localize(\"UTC\").tz_convert(\"Africa/Nairobi\")\n",
        "\n",
        "# Display the first five rows of the DataFrame\n",
        "print(df.head())"
      ],
      "metadata": {
        "colab": {
          "base_uri": "https://localhost:8080/"
        },
        "id": "L7ufHRT_qfMh",
        "outputId": "7472dcc4-361b-4ec1-8683-2b5e89cc0a00"
      },
      "execution_count": 12,
      "outputs": [
        {
          "output_type": "stream",
          "name": "stdout",
          "text": [
            "                                     P2\n",
            "timestamp                              \n",
            "2018-09-01 03:00:26.722000+03:00  19.30\n",
            "2018-09-01 03:00:43.434000+03:00  16.90\n",
            "2018-09-01 03:01:19.344000+03:00  16.10\n",
            "2018-09-01 03:01:26.343000+03:00  10.83\n",
            "2018-09-01 03:01:29.906000+03:00  18.47\n"
          ]
        }
      ]
    },
    {
      "cell_type": "markdown",
      "source": [
        "#Explore"
      ],
      "metadata": {
        "id": "IWVJPIabuNrR"
      }
    },
    {
      "cell_type": "code",
      "source": [
        "# Create a boxplot of the \"P2\" readings\n",
        "fig, ax = plt.subplots(figsize=(15, 6))\n",
        "df[\"P2\"].plot(kind=\"box\",vert=False,title=\"Distribution of PM2.5 Readings\",ax=ax);"
      ],
      "metadata": {
        "colab": {
          "base_uri": "https://localhost:8080/",
          "height": 411
        },
        "id": "W64Tw_LErJv2",
        "outputId": "b009f510-147b-48ae-9606-ac89e2d7fd60"
      },
      "execution_count": 13,
      "outputs": [
        {
          "output_type": "display_data",
          "data": {
            "text/plain": [
              "<Figure size 1500x600 with 1 Axes>"
            ],
            "image/png": "[encoded data removed]"
          },
          "metadata": {}
        }
      ]
    },
    {
      "cell_type": "markdown",
      "source": [
        "There are PM 2.5  readings at 700 , I don't think that is even possible to get an air quality reading that high.\n",
        "I will guess that is some sort of error because from the Bliss Air website the maximum level of pm2.5 at 500 so I will remove the readings above 500."
      ],
      "metadata": {
        "id": "OEm3QbLRuWzI"
      }
    },
    {
      "cell_type": "code",
      "source": [
        "#Remove outliers\n",
        "df=df[df[\"P2\"]<500]"
      ],
      "metadata": {
        "id": "-U3M3xm8uUuo"
      },
      "execution_count": 14,
      "outputs": []
    },
    {
      "cell_type": "code",
      "source": [
        "#Create a time series plot of the \"P2\" readings in df.\n",
        "fig, ax = plt.subplots(figsize=(15, 6))\n",
        "df[\"P2\"].plot(xlabel=\"time\",ylabel=\"PM2.5\",title=\"PM2.5 time sereies\",ax=ax);\n"
      ],
      "metadata": {
        "colab": {
          "base_uri": "https://localhost:8080/",
          "height": 404
        },
        "id": "fkzeNGDnw6Ya",
        "outputId": "3c1ce5d0-3ccb-403b-fe52-84035c702377"
      },
      "execution_count": 15,
      "outputs": [
        {
          "output_type": "display_data",
          "data": {
            "text/plain": [
              "<Figure size 1500x600 with 1 Axes>"
            ],
            "image/png": "[encoded data removed]"
          },
          "metadata": {}
        }
      ]
    },
    {
      "cell_type": "markdown",
      "source": [
        " Notice here That the P2 readings are measeured every 5 minutes but I  actually  want it to be every hour"
      ],
      "metadata": {
        "id": "QbYOsxLIxufv"
      }
    },
    {
      "cell_type": "code",
      "source": [
        "# Resample to 1H window,ffil missing values\n",
        "df = df[\"P2\"].resample(\"1H\").mean().fillna(method=\"ffill\").to_frame()"
      ],
      "metadata": {
        "id": "WV6vX6t6xJC_"
      },
      "execution_count": 16,
      "outputs": []
    },
    {
      "cell_type": "code",
      "source": [
        "# Plot the rolling average of the \"P2\" readings\n",
        "fig, ax = plt.subplots(figsize=(15, 6))\n",
        "df[\"P2\"].rolling(168).mean().plot(ax=ax,xlabel=\"time\",ylabel=\"PM2.5 Readings\",title=\"Weekly Rolling Average\");"
      ],
      "metadata": {
        "colab": {
          "base_uri": "https://localhost:8080/",
          "height": 448
        },
        "id": "Ra9yCHM0yAqi",
        "outputId": "3ea1ffd5-869a-4371-e913-ce41e228bf8c"
      },
      "execution_count": 17,
      "outputs": [
        {
          "output_type": "display_data",
          "data": {
            "text/plain": [
              "<Figure size 1500x600 with 1 Axes>"
            ],
            "image/png": "[encoded data removed]"
          },
          "metadata": {}
        }
      ]
    },
    {
      "cell_type": "code",
      "source": [
        "# Add lag feature\n",
        "df[\"P2.L1\"]=df[\"P2\"].shift(1)"
      ],
      "metadata": {
        "id": "qZ7jjIXkyKay"
      },
      "execution_count": 18,
      "outputs": []
    },
    {
      "cell_type": "code",
      "source": [
        "df.dropna(inplace=True)"
      ],
      "metadata": {
        "id": "niZWBYUqySZn"
      },
      "execution_count": 31,
      "outputs": []
    },
    {
      "cell_type": "code",
      "source": [
        "#Create a correlation matrix\n",
        "df.corr()"
      ],
      "metadata": {
        "colab": {
          "base_uri": "https://localhost:8080/",
          "height": 112
        },
        "id": "XaCIPaJuyUgi",
        "outputId": "535fda93-a0b7-49e7-f72f-3bf9af4fd0f5"
      },
      "execution_count": 32,
      "outputs": [
        {
          "output_type": "execute_result",
          "data": {
            "text/plain": [
              "             P2     P2.L1\n",
              "P2     1.000000  0.658274\n",
              "P2.L1  0.658274  1.000000"
            ],
            "text/html": [
              "\n",
              "  <div id=\"df-28e9b82a-f821-41ba-93dd-78ed78c7397d\">\n",
              "    <div class=\"colab-df-container\">\n",
              "      <div>\n",
              "<style scoped>\n",
              "    .dataframe tbody tr th:only-of-type {\n",
              "        vertical-align: middle;\n",
              "    }\n",
              "\n",
              "    .dataframe tbody tr th {\n",
              "        vertical-align: top;\n",
              "    }\n",
              "\n",
              "    .dataframe thead th {\n",
              "        text-align: right;\n",
              "    }\n",
              "</style>\n",
              "<table border=\"1\" class=\"dataframe\">\n",
              "  <thead>\n",
              "    <tr style=\"text-align: right;\">\n",
              "      <th></th>\n",
              "      <th>P2</th>\n",
              "      <th>P2.L1</th>\n",
              "    </tr>\n",
              "  </thead>\n",
              "  <tbody>\n",
              "    <tr>\n",
              "      <th>P2</th>\n",
              "      <td>1.000000</td>\n",
              "      <td>0.658274</td>\n",
              "    </tr>\n",
              "    <tr>\n",
              "      <th>P2.L1</th>\n",
              "      <td>0.658274</td>\n",
              "      <td>1.000000</td>\n",
              "    </tr>\n",
              "  </tbody>\n",
              "</table>\n",
              "</div>\n",
              "      <button class=\"colab-df-convert\" onclick=\"convertToInteractive('df-28e9b82a-f821-41ba-93dd-78ed78c7397d')\"\n",
              "              title=\"Convert this dataframe to an interactive table.\"\n",
              "              style=\"display:none;\">\n",
              "        \n",
              "  <svg xmlns=\"http://www.w3.org/2000/svg\" height=\"24px\"viewBox=\"0 0 24 24\"\n",
              "       width=\"24px\">\n",
              "    <path d=\"M0 0h24v24H0V0z\" fill=\"none\"/>\n",
              "    <path d=\"M18.56 5.44l.94 2.06.94-2.06 2.06-.94-2.06-.94-.94-2.06-.94 2.06-2.06.94zm-11 1L8.5 8.5l.94-2.06 2.06-.94-2.06-.94L8.5 2.5l-.94 2.06-2.06.94zm10 10l.94 2.06.94-2.06 2.06-.94-2.06-.94-.94-2.06-.94 2.06-2.06.94z\"/><path d=\"M17.41 7.96l-1.37-1.37c-.4-.4-.92-.59-1.43-.59-.52 0-1.04.2-1.43.59L10.3 9.45l-7.72 7.72c-.78.78-.78 2.05 0 2.83L4 21.41c.39.39.9.59 1.41.59.51 0 1.02-.2 1.41-.59l7.78-7.78 2.81-2.81c.8-.78.8-2.07 0-2.86zM5.41 20L4 18.59l7.72-7.72 1.47 1.35L5.41 20z\"/>\n",
              "  </svg>\n",
              "      </button>\n",
              "      \n",
              "  <style>\n",
              "    .colab-df-container {\n",
              "      display:flex;\n",
              "      flex-wrap:wrap;\n",
              "      gap: 12px;\n",
              "    }\n",
              "\n",
              "    .colab-df-convert {\n",
              "      background-color: #E8F0FE;\n",
              "      border: none;\n",
              "      border-radius: 50%;\n",
              "      cursor: pointer;\n",
              "      display: none;\n",
              "      fill: #1967D2;\n",
              "      height: 32px;\n",
              "      padding: 0 0 0 0;\n",
              "      width: 32px;\n",
              "    }\n",
              "\n",
              "    .colab-df-convert:hover {\n",
              "      background-color: #E2EBFA;\n",
              "      box-shadow: 0px 1px 2px rgba(60, 64, 67, 0.3), 0px 1px 3px 1px rgba(60, 64, 67, 0.15);\n",
              "      fill: #174EA6;\n",
              "    }\n",
              "\n",
              "    [theme=dark] .colab-df-convert {\n",
              "      background-color: #3B4455;\n",
              "      fill: #D2E3FC;\n",
              "    }\n",
              "\n",
              "    [theme=dark] .colab-df-convert:hover {\n",
              "      background-color: #434B5C;\n",
              "      box-shadow: 0px 1px 3px 1px rgba(0, 0, 0, 0.15);\n",
              "      filter: drop-shadow(0px 1px 2px rgba(0, 0, 0, 0.3));\n",
              "      fill: #FFFFFF;\n",
              "    }\n",
              "  </style>\n",
              "\n",
              "      <script>\n",
              "        const buttonEl =\n",
              "          document.querySelector('#df-28e9b82a-f821-41ba-93dd-78ed78c7397d button.colab-df-convert');\n",
              "        buttonEl.style.display =\n",
              "          google.colab.kernel.accessAllowed ? 'block' : 'none';\n",
              "\n",
              "        async function convertToInteractive(key) {\n",
              "          const element = document.querySelector('#df-28e9b82a-f821-41ba-93dd-78ed78c7397d');\n",
              "          const dataTable =\n",
              "            await google.colab.kernel.invokeFunction('convertToInteractive',\n",
              "                                                     [key], {});\n",
              "          if (!dataTable) return;\n",
              "\n",
              "          const docLinkHtml = 'Like what you see? Visit the ' +\n",
              "            '<a target=\"_blank\" href=https://colab.research.google.com/notebooks/data_table.ipynb>data table notebook</a>'\n",
              "            + ' to learn more about interactive tables.';\n",
              "          element.innerHTML = '';\n",
              "          dataTable['output_type'] = 'display_data';\n",
              "          await google.colab.output.renderOutput(dataTable, element);\n",
              "          const docLink = document.createElement('div');\n",
              "          docLink.innerHTML = docLinkHtml;\n",
              "          element.appendChild(docLink);\n",
              "        }\n",
              "      </script>\n",
              "    </div>\n",
              "  </div>\n",
              "  "
            ]
          },
          "metadata": {},
          "execution_count": 32
        }
      ]
    },
    {
      "cell_type": "markdown",
      "source": [
        "There is a fairly strong correlation between value and its lag"
      ],
      "metadata": {
        "id": "5l2OkUBY2FWl"
      }
    },
    {
      "cell_type": "code",
      "source": [
        "#Create a scatter plot that shows PM 2.5 mean reading for each our as a function of the mean reading from the previous hour.\n",
        "fig, ax = plt.subplots(figsize=(6, 6))\n",
        "ax.scatter(x=df[\"P2.L1\"],y= df[\"P2\"])\n",
        "ax.plot([0,120],[0,120],linestyle=\"--\",color=\"orange\")\n",
        "plt.xlabel(\"P2.L1\")\n",
        "plt.ylabel(\"P2\")\n",
        "plt.title(\"PM2.5 Auto Correlation\");"
      ],
      "metadata": {
        "colab": {
          "base_uri": "https://localhost:8080/",
          "height": 564
        },
        "id": "btLVDVcvya-Z",
        "outputId": "25214836-787b-4ddb-df5a-a97bbb04f2c6"
      },
      "execution_count": 33,
      "outputs": [
        {
          "output_type": "display_data",
          "data": {
            "text/plain": [
              "<Figure size 600x600 with 1 Axes>"
            ],
            "image/png": "[encoded data removed]"
          },
          "metadata": {}
        }
      ]
    },
    {
      "cell_type": "markdown",
      "source": [
        "#Split"
      ],
      "metadata": {
        "id": "-minK34R2aci"
      }
    },
    {
      "cell_type": "code",
      "source": [
        "#Split the DataFrame df into the feature matrix X and the target vector y\n",
        "target = \"P2\"\n",
        "y = df[target]\n",
        "X = df.drop(columns=target)"
      ],
      "metadata": {
        "id": "jRk282C92UTo"
      },
      "execution_count": 34,
      "outputs": []
    },
    {
      "cell_type": "code",
      "source": [
        "y.head()"
      ],
      "metadata": {
        "colab": {
          "base_uri": "https://localhost:8080/"
        },
        "id": "kRCzg4JQ27Ls",
        "outputId": "e8e3f636-fe98-429f-9281-194623ba90b1"
      },
      "execution_count": 35,
      "outputs": [
        {
          "output_type": "execute_result",
          "data": {
            "text/plain": [
              "timestamp\n",
              "2018-09-01 04:00:00+03:00    13.275321\n",
              "2018-09-01 05:00:00+03:00    11.583333\n",
              "2018-09-01 06:00:00+03:00    11.627500\n",
              "2018-09-01 07:00:00+03:00    13.981279\n",
              "2018-09-01 08:00:00+03:00    14.213542\n",
              "Freq: H, Name: P2, dtype: float64"
            ]
          },
          "metadata": {},
          "execution_count": 35
        }
      ]
    },
    {
      "cell_type": "code",
      "source": [
        "X.head()"
      ],
      "metadata": {
        "colab": {
          "base_uri": "https://localhost:8080/",
          "height": 237
        },
        "id": "VriF7ev43AWz",
        "outputId": "7df93cda-b0ab-4790-f105-4c9d3126e1cd"
      },
      "execution_count": 36,
      "outputs": [
        {
          "output_type": "execute_result",
          "data": {
            "text/plain": [
              "                               P2.L1\n",
              "timestamp                           \n",
              "2018-09-01 04:00:00+03:00  15.858454\n",
              "2018-09-01 05:00:00+03:00  13.275321\n",
              "2018-09-01 06:00:00+03:00  11.583333\n",
              "2018-09-01 07:00:00+03:00  11.627500\n",
              "2018-09-01 08:00:00+03:00  13.981279"
            ],
            "text/html": [
              "\n",
              "  <div id=\"df-f211c93c-6f7e-4b5b-895e-db4e13a2c424\">\n",
              "    <div class=\"colab-df-container\">\n",
              "      <div>\n",
              "<style scoped>\n",
              "    .dataframe tbody tr th:only-of-type {\n",
              "        vertical-align: middle;\n",
              "    }\n",
              "\n",
              "    .dataframe tbody tr th {\n",
              "        vertical-align: top;\n",
              "    }\n",
              "\n",
              "    .dataframe thead th {\n",
              "        text-align: right;\n",
              "    }\n",
              "</style>\n",
              "<table border=\"1\" class=\"dataframe\">\n",
              "  <thead>\n",
              "    <tr style=\"text-align: right;\">\n",
              "      <th></th>\n",
              "      <th>P2.L1</th>\n",
              "    </tr>\n",
              "    <tr>\n",
              "      <th>timestamp</th>\n",
              "      <th></th>\n",
              "    </tr>\n",
              "  </thead>\n",
              "  <tbody>\n",
              "    <tr>\n",
              "      <th>2018-09-01 04:00:00+03:00</th>\n",
              "      <td>15.858454</td>\n",
              "    </tr>\n",
              "    <tr>\n",
              "      <th>2018-09-01 05:00:00+03:00</th>\n",
              "      <td>13.275321</td>\n",
              "    </tr>\n",
              "    <tr>\n",
              "      <th>2018-09-01 06:00:00+03:00</th>\n",
              "      <td>11.583333</td>\n",
              "    </tr>\n",
              "    <tr>\n",
              "      <th>2018-09-01 07:00:00+03:00</th>\n",
              "      <td>11.627500</td>\n",
              "    </tr>\n",
              "    <tr>\n",
              "      <th>2018-09-01 08:00:00+03:00</th>\n",
              "      <td>13.981279</td>\n",
              "    </tr>\n",
              "  </tbody>\n",
              "</table>\n",
              "</div>\n",
              "      <button class=\"colab-df-convert\" onclick=\"convertToInteractive('df-f211c93c-6f7e-4b5b-895e-db4e13a2c424')\"\n",
              "              title=\"Convert this dataframe to an interactive table.\"\n",
              "              style=\"display:none;\">\n",
              "        \n",
              "  <svg xmlns=\"http://www.w3.org/2000/svg\" height=\"24px\"viewBox=\"0 0 24 24\"\n",
              "       width=\"24px\">\n",
              "    <path d=\"M0 0h24v24H0V0z\" fill=\"none\"/>\n",
              "    <path d=\"M18.56 5.44l.94 2.06.94-2.06 2.06-.94-2.06-.94-.94-2.06-.94 2.06-2.06.94zm-11 1L8.5 8.5l.94-2.06 2.06-.94-2.06-.94L8.5 2.5l-.94 2.06-2.06.94zm10 10l.94 2.06.94-2.06 2.06-.94-2.06-.94-.94-2.06-.94 2.06-2.06.94z\"/><path d=\"M17.41 7.96l-1.37-1.37c-.4-.4-.92-.59-1.43-.59-.52 0-1.04.2-1.43.59L10.3 9.45l-7.72 7.72c-.78.78-.78 2.05 0 2.83L4 21.41c.39.39.9.59 1.41.59.51 0 1.02-.2 1.41-.59l7.78-7.78 2.81-2.81c.8-.78.8-2.07 0-2.86zM5.41 20L4 18.59l7.72-7.72 1.47 1.35L5.41 20z\"/>\n",
              "  </svg>\n",
              "      </button>\n",
              "      \n",
              "  <style>\n",
              "    .colab-df-container {\n",
              "      display:flex;\n",
              "      flex-wrap:wrap;\n",
              "      gap: 12px;\n",
              "    }\n",
              "\n",
              "    .colab-df-convert {\n",
              "      background-color: #E8F0FE;\n",
              "      border: none;\n",
              "      border-radius: 50%;\n",
              "      cursor: pointer;\n",
              "      display: none;\n",
              "      fill: #1967D2;\n",
              "      height: 32px;\n",
              "      padding: 0 0 0 0;\n",
              "      width: 32px;\n",
              "    }\n",
              "\n",
              "    .colab-df-convert:hover {\n",
              "      background-color: #E2EBFA;\n",
              "      box-shadow: 0px 1px 2px rgba(60, 64, 67, 0.3), 0px 1px 3px 1px rgba(60, 64, 67, 0.15);\n",
              "      fill: #174EA6;\n",
              "    }\n",
              "\n",
              "    [theme=dark] .colab-df-convert {\n",
              "      background-color: #3B4455;\n",
              "      fill: #D2E3FC;\n",
              "    }\n",
              "\n",
              "    [theme=dark] .colab-df-convert:hover {\n",
              "      background-color: #434B5C;\n",
              "      box-shadow: 0px 1px 3px 1px rgba(0, 0, 0, 0.15);\n",
              "      filter: drop-shadow(0px 1px 2px rgba(0, 0, 0, 0.3));\n",
              "      fill: #FFFFFF;\n",
              "    }\n",
              "  </style>\n",
              "\n",
              "      <script>\n",
              "        const buttonEl =\n",
              "          document.querySelector('#df-f211c93c-6f7e-4b5b-895e-db4e13a2c424 button.colab-df-convert');\n",
              "        buttonEl.style.display =\n",
              "          google.colab.kernel.accessAllowed ? 'block' : 'none';\n",
              "\n",
              "        async function convertToInteractive(key) {\n",
              "          const element = document.querySelector('#df-f211c93c-6f7e-4b5b-895e-db4e13a2c424');\n",
              "          const dataTable =\n",
              "            await google.colab.kernel.invokeFunction('convertToInteractive',\n",
              "                                                     [key], {});\n",
              "          if (!dataTable) return;\n",
              "\n",
              "          const docLinkHtml = 'Like what you see? Visit the ' +\n",
              "            '<a target=\"_blank\" href=https://colab.research.google.com/notebooks/data_table.ipynb>data table notebook</a>'\n",
              "            + ' to learn more about interactive tables.';\n",
              "          element.innerHTML = '';\n",
              "          dataTable['output_type'] = 'display_data';\n",
              "          await google.colab.output.renderOutput(dataTable, element);\n",
              "          const docLink = document.createElement('div');\n",
              "          docLink.innerHTML = docLinkHtml;\n",
              "          element.appendChild(docLink);\n",
              "        }\n",
              "      </script>\n",
              "    </div>\n",
              "  </div>\n",
              "  "
            ]
          },
          "metadata": {},
          "execution_count": 36
        }
      ]
    },
    {
      "cell_type": "code",
      "source": [
        "#Split X and y into training and test sets.\n",
        "#The first 80% of the data should be in your training set. The remaining 20% should be in the test set.\n",
        "cutoff = int(len(X)*0.8)\n",
        "\n",
        "X_train, y_train = X.iloc[:cutoff],y.iloc[:cutoff]\n",
        "X_test, y_test = X.iloc[cutoff:],y.iloc[cutoff:]\n",
        "len(X_train)+len(X_test)== len(X)"
      ],
      "metadata": {
        "colab": {
          "base_uri": "https://localhost:8080/"
        },
        "id": "SUxcnwjN3DVx",
        "outputId": "a12c4c96-7789-4df4-919c-2c4dc1a483c6"
      },
      "execution_count": 37,
      "outputs": [
        {
          "output_type": "execute_result",
          "data": {
            "text/plain": [
              "True"
            ]
          },
          "metadata": {},
          "execution_count": 37
        }
      ]
    },
    {
      "cell_type": "markdown",
      "source": [
        "#Build Model\n",
        "calculate the baseline mean absolute error for your model.\n"
      ],
      "metadata": {
        "id": "MBKA2eO03Uy2"
      }
    },
    {
      "cell_type": "code",
      "source": [
        "# Predict using baseline model\n",
        "# Baseline model predicts the same value for all inputs,\n",
        "# which is the mean of the target variable in the training set.\n",
        "y_pred_baseline = len(y_train) * [y_train.mean()]\n",
        "\n",
        "# Calculate mean absolute error (MAE) for the baseline model\n",
        "# MAE measures the absolute difference between the true values and the predicted values.\n",
        "mae_baseline = mean_absolute_error(y_train, y_pred_baseline)\n",
        "\n",
        "# Print the mean value of the target variable in the training set\n",
        "print(\"Mean P2 Reading:\", round(y_train.mean(), 2))\n",
        "\n",
        "# Print the MAE of the baseline model\n",
        "print(\"Baseline MAE:\", round(mae_baseline, 2))"
      ],
      "metadata": {
        "colab": {
          "base_uri": "https://localhost:8080/"
        },
        "id": "FaSrsvlZ3PYY",
        "outputId": "7dc62407-5883-48b7-9cbb-f9d7c10e9976"
      },
      "execution_count": 38,
      "outputs": [
        {
          "output_type": "stream",
          "name": "stdout",
          "text": [
            "Mean P2 Reading: 7.48\n",
            "Baseline MAE: 3.19\n"
          ]
        }
      ]
    },
    {
      "cell_type": "markdown",
      "source": [
        "#Iterate"
      ],
      "metadata": {
        "id": "a1j_l7vG3vfi"
      }
    },
    {
      "cell_type": "code",
      "source": [
        "#Instantiate a LinearRegression model named model, and fit it to the training data.\n",
        "model = LinearRegression()\n",
        "model.fit(X_train,y_train)"
      ],
      "metadata": {
        "colab": {
          "base_uri": "https://localhost:8080/",
          "height": 74
        },
        "id": "u5kVgmrK3s1K",
        "outputId": "b55c70bb-268f-419a-c85f-ecf5f00023f9"
      },
      "execution_count": 39,
      "outputs": [
        {
          "output_type": "execute_result",
          "data": {
            "text/plain": [
              "LinearRegression()"
            ],
            "text/html": [
              "<style>#sk-container-id-1 {color: black;background-color: white;}#sk-container-id-1 pre{padding: 0;}#sk-container-id-1 div.sk-toggleable {background-color: white;}#sk-container-id-1 label.sk-toggleable__label {cursor: pointer;display: block;width: 100%;margin-bottom: 0;padding: 0.3em;box-sizing: border-box;text-align: center;}#sk-container-id-1 label.sk-toggleable__label-arrow:before {content: \"▸\";float: left;margin-right: 0.25em;color: #696969;}#sk-container-id-1 label.sk-toggleable__label-arrow:hover:before {color: black;}#sk-container-id-1 div.sk-estimator:hover label.sk-toggleable__label-arrow:before {color: black;}#sk-container-id-1 div.sk-toggleable__content {max-height: 0;max-width: 0;overflow: hidden;text-align: left;background-color: #f0f8ff;}#sk-container-id-1 div.sk-toggleable__content pre {margin: 0.2em;color: black;border-radius: 0.25em;background-color: #f0f8ff;}#sk-container-id-1 input.sk-toggleable__control:checked~div.sk-toggleable__content {max-height: 200px;max-width: 100%;overflow: auto;}#sk-container-id-1 input.sk-toggleable__control:checked~label.sk-toggleable__label-arrow:before {content: \"▾\";}#sk-container-id-1 div.sk-estimator input.sk-toggleable__control:checked~label.sk-toggleable__label {background-color: #d4ebff;}#sk-container-id-1 div.sk-label input.sk-toggleable__control:checked~label.sk-toggleable__label {background-color: #d4ebff;}#sk-container-id-1 input.sk-hidden--visually {border: 0;clip: rect(1px 1px 1px 1px);clip: rect(1px, 1px, 1px, 1px);height: 1px;margin: -1px;overflow: hidden;padding: 0;position: absolute;width: 1px;}#sk-container-id-1 div.sk-estimator {font-family: monospace;background-color: #f0f8ff;border: 1px dotted black;border-radius: 0.25em;box-sizing: border-box;margin-bottom: 0.5em;}#sk-container-id-1 div.sk-estimator:hover {background-color: #d4ebff;}#sk-container-id-1 div.sk-parallel-item::after {content: \"\";width: 100%;border-bottom: 1px solid gray;flex-grow: 1;}#sk-container-id-1 div.sk-label:hover label.sk-toggleable__label {background-color: #d4ebff;}#sk-container-id-1 div.sk-serial::before {content: \"\";position: absolute;border-left: 1px solid gray;box-sizing: border-box;top: 0;bottom: 0;left: 50%;z-index: 0;}#sk-container-id-1 div.sk-serial {display: flex;flex-direction: column;align-items: center;background-color: white;padding-right: 0.2em;padding-left: 0.2em;position: relative;}#sk-container-id-1 div.sk-item {position: relative;z-index: 1;}#sk-container-id-1 div.sk-parallel {display: flex;align-items: stretch;justify-content: center;background-color: white;position: relative;}#sk-container-id-1 div.sk-item::before, #sk-container-id-1 div.sk-parallel-item::before {content: \"\";position: absolute;border-left: 1px solid gray;box-sizing: border-box;top: 0;bottom: 0;left: 50%;z-index: -1;}#sk-container-id-1 div.sk-parallel-item {display: flex;flex-direction: column;z-index: 1;position: relative;background-color: white;}#sk-container-id-1 div.sk-parallel-item:first-child::after {align-self: flex-end;width: 50%;}#sk-container-id-1 div.sk-parallel-item:last-child::after {align-self: flex-start;width: 50%;}#sk-container-id-1 div.sk-parallel-item:only-child::after {width: 0;}#sk-container-id-1 div.sk-dashed-wrapped {border: 1px dashed gray;margin: 0 0.4em 0.5em 0.4em;box-sizing: border-box;padding-bottom: 0.4em;background-color: white;}#sk-container-id-1 div.sk-label label {font-family: monospace;font-weight: bold;display: inline-block;line-height: 1.2em;}#sk-container-id-1 div.sk-label-container {text-align: center;}#sk-container-id-1 div.sk-container {/* jupyter's `normalize.less` sets `[hidden] { display: none; }` but bootstrap.min.css set `[hidden] { display: none !important; }` so we also need the `!important` here to be able to override the default hidden behavior on the sphinx rendered scikit-learn.org. See: https://github.com/scikit-learn/scikit-learn/issues/21755 */display: inline-block !important;position: relative;}#sk-container-id-1 div.sk-text-repr-fallback {display: none;}</style><div id=\"sk-container-id-1\" class=\"sk-top-container\"><div class=\"sk-text-repr-fallback\"><pre>LinearRegression()</pre><b>In a Jupyter environment, please rerun this cell to show the HTML representation or trust the notebook. <br />On GitHub, the HTML representation is unable to render, please try loading this page with nbviewer.org.</b></div><div class=\"sk-container\" hidden><div class=\"sk-item\"><div class=\"sk-estimator sk-toggleable\"><input class=\"sk-toggleable__control sk-hidden--visually\" id=\"sk-estimator-id-1\" type=\"checkbox\" checked><label for=\"sk-estimator-id-1\" class=\"sk-toggleable__label sk-toggleable__label-arrow\">LinearRegression</label><div class=\"sk-toggleable__content\"><pre>LinearRegression()</pre></div></div></div></div></div>"
            ]
          },
          "metadata": {},
          "execution_count": 39
        }
      ]
    },
    {
      "cell_type": "markdown",
      "source": [
        "#Evaluate"
      ],
      "metadata": {
        "id": "59fQXh1u4kty"
      }
    },
    {
      "cell_type": "code",
      "source": [
        "# Calculate mean absolute error (MAE) for the training set\n",
        "# MAE measures the absolute difference between the true values and the predicted values for the training set.\n",
        "training_mae = mean_absolute_error(y_train, model.predict(X_train))\n",
        "\n",
        "# Calculate mean absolute error (MAE) for the test set\n",
        "# MAE measures the absolute difference between the true values and the predicted values for the test set.\n",
        "test_mae = mean_absolute_error(y_test, model.predict(X_test))\n",
        "\n",
        "# Print the MAE for the training set, rounded to two decimal places.\n",
        "print(\"Training MAE:\", round(training_mae, 2))\n",
        "\n",
        "# Print the MAE for the test set, rounded to two decimal places.\n",
        "print(\"Test MAE:\", round(test_mae, 2))"
      ],
      "metadata": {
        "colab": {
          "base_uri": "https://localhost:8080/"
        },
        "id": "L4-k3bcK366s",
        "outputId": "b548bd8d-d037-4e5a-be7e-8ea3a84735e6"
      },
      "execution_count": 40,
      "outputs": [
        {
          "output_type": "stream",
          "name": "stdout",
          "text": [
            "Training MAE: 1.91\n",
            "Test MAE: 1.44\n"
          ]
        }
      ]
    },
    {
      "cell_type": "markdown",
      "source": [
        "#Communicate Results"
      ],
      "metadata": {
        "id": "pqx2fxf-5PzL"
      }
    },
    {
      "cell_type": "code",
      "source": [
        "# Extract the intercept and coefficient from the model.\n",
        "intercept = model.intercept_.round(2)\n",
        "coefficient = model.coef_.round(2)[0]\n",
        "\n",
        "print(f\"P2 = {intercept} + ({coefficient} * P2.L1)\")"
      ],
      "metadata": {
        "colab": {
          "base_uri": "https://localhost:8080/"
        },
        "id": "103e4mTH5MhO",
        "outputId": "b8c69d06-3231-4cd2-be66-6bdc4a676b17"
      },
      "execution_count": 41,
      "outputs": [
        {
          "output_type": "stream",
          "name": "stdout",
          "text": [
            "P2 = 2.62 + (0.65 * P2.L1)\n"
          ]
        }
      ]
    },
    {
      "cell_type": "code",
      "source": [
        "# Create a DataFrame df_pred_test that has two columns: \"y_test\" and \"y_pred\"\n",
        "df_pred_test = pd.DataFrame(\n",
        "{\"y_test\":y_test,\n",
        " \"y_pred\":model.predict(X_test)\n",
        "}\n",
        ")\n",
        "df_pred_test.head()"
      ],
      "metadata": {
        "colab": {
          "base_uri": "https://localhost:8080/",
          "height": 237
        },
        "id": "HqFypsEv5WoK",
        "outputId": "5d01054a-f6f6-45af-ba36-de2c8ddb73fd"
      },
      "execution_count": 42,
      "outputs": [
        {
          "output_type": "execute_result",
          "data": {
            "text/plain": [
              "                             y_test    y_pred\n",
              "timestamp                                    \n",
              "2018-09-25 03:00:00+03:00  0.970689  3.188810\n",
              "2018-09-25 04:00:00+03:00  1.024941  3.247114\n",
              "2018-09-25 05:00:00+03:00  1.401455  3.282253\n",
              "2018-09-25 06:00:00+03:00  2.147898  3.526125\n",
              "2018-09-25 07:00:00+03:00  3.371041  4.009602"
            ],
            "text/html": [
              "\n",
              "  <div id=\"df-075796ac-f3fa-41e2-9d5a-e2a478887d6d\">\n",
              "    <div class=\"colab-df-container\">\n",
              "      <div>\n",
              "<style scoped>\n",
              "    .dataframe tbody tr th:only-of-type {\n",
              "        vertical-align: middle;\n",
              "    }\n",
              "\n",
              "    .dataframe tbody tr th {\n",
              "        vertical-align: top;\n",
              "    }\n",
              "\n",
              "    .dataframe thead th {\n",
              "        text-align: right;\n",
              "    }\n",
              "</style>\n",
              "<table border=\"1\" class=\"dataframe\">\n",
              "  <thead>\n",
              "    <tr style=\"text-align: right;\">\n",
              "      <th></th>\n",
              "      <th>y_test</th>\n",
              "      <th>y_pred</th>\n",
              "    </tr>\n",
              "    <tr>\n",
              "      <th>timestamp</th>\n",
              "      <th></th>\n",
              "      <th></th>\n",
              "    </tr>\n",
              "  </thead>\n",
              "  <tbody>\n",
              "    <tr>\n",
              "      <th>2018-09-25 03:00:00+03:00</th>\n",
              "      <td>0.970689</td>\n",
              "      <td>3.188810</td>\n",
              "    </tr>\n",
              "    <tr>\n",
              "      <th>2018-09-25 04:00:00+03:00</th>\n",
              "      <td>1.024941</td>\n",
              "      <td>3.247114</td>\n",
              "    </tr>\n",
              "    <tr>\n",
              "      <th>2018-09-25 05:00:00+03:00</th>\n",
              "      <td>1.401455</td>\n",
              "      <td>3.282253</td>\n",
              "    </tr>\n",
              "    <tr>\n",
              "      <th>2018-09-25 06:00:00+03:00</th>\n",
              "      <td>2.147898</td>\n",
              "      <td>3.526125</td>\n",
              "    </tr>\n",
              "    <tr>\n",
              "      <th>2018-09-25 07:00:00+03:00</th>\n",
              "      <td>3.371041</td>\n",
              "      <td>4.009602</td>\n",
              "    </tr>\n",
              "  </tbody>\n",
              "</table>\n",
              "</div>\n",
              "      <button class=\"colab-df-convert\" onclick=\"convertToInteractive('df-075796ac-f3fa-41e2-9d5a-e2a478887d6d')\"\n",
              "              title=\"Convert this dataframe to an interactive table.\"\n",
              "              style=\"display:none;\">\n",
              "        \n",
              "  <svg xmlns=\"http://www.w3.org/2000/svg\" height=\"24px\"viewBox=\"0 0 24 24\"\n",
              "       width=\"24px\">\n",
              "    <path d=\"M0 0h24v24H0V0z\" fill=\"none\"/>\n",
              "    <path d=\"M18.56 5.44l.94 2.06.94-2.06 2.06-.94-2.06-.94-.94-2.06-.94 2.06-2.06.94zm-11 1L8.5 8.5l.94-2.06 2.06-.94-2.06-.94L8.5 2.5l-.94 2.06-2.06.94zm10 10l.94 2.06.94-2.06 2.06-.94-2.06-.94-.94-2.06-.94 2.06-2.06.94z\"/><path d=\"M17.41 7.96l-1.37-1.37c-.4-.4-.92-.59-1.43-.59-.52 0-1.04.2-1.43.59L10.3 9.45l-7.72 7.72c-.78.78-.78 2.05 0 2.83L4 21.41c.39.39.9.59 1.41.59.51 0 1.02-.2 1.41-.59l7.78-7.78 2.81-2.81c.8-.78.8-2.07 0-2.86zM5.41 20L4 18.59l7.72-7.72 1.47 1.35L5.41 20z\"/>\n",
              "  </svg>\n",
              "      </button>\n",
              "      \n",
              "  <style>\n",
              "    .colab-df-container {\n",
              "      display:flex;\n",
              "      flex-wrap:wrap;\n",
              "      gap: 12px;\n",
              "    }\n",
              "\n",
              "    .colab-df-convert {\n",
              "      background-color: #E8F0FE;\n",
              "      border: none;\n",
              "      border-radius: 50%;\n",
              "      cursor: pointer;\n",
              "      display: none;\n",
              "      fill: #1967D2;\n",
              "      height: 32px;\n",
              "      padding: 0 0 0 0;\n",
              "      width: 32px;\n",
              "    }\n",
              "\n",
              "    .colab-df-convert:hover {\n",
              "      background-color: #E2EBFA;\n",
              "      box-shadow: 0px 1px 2px rgba(60, 64, 67, 0.3), 0px 1px 3px 1px rgba(60, 64, 67, 0.15);\n",
              "      fill: #174EA6;\n",
              "    }\n",
              "\n",
              "    [theme=dark] .colab-df-convert {\n",
              "      background-color: #3B4455;\n",
              "      fill: #D2E3FC;\n",
              "    }\n",
              "\n",
              "    [theme=dark] .colab-df-convert:hover {\n",
              "      background-color: #434B5C;\n",
              "      box-shadow: 0px 1px 3px 1px rgba(0, 0, 0, 0.15);\n",
              "      filter: drop-shadow(0px 1px 2px rgba(0, 0, 0, 0.3));\n",
              "      fill: #FFFFFF;\n",
              "    }\n",
              "  </style>\n",
              "\n",
              "      <script>\n",
              "        const buttonEl =\n",
              "          document.querySelector('#df-075796ac-f3fa-41e2-9d5a-e2a478887d6d button.colab-df-convert');\n",
              "        buttonEl.style.display =\n",
              "          google.colab.kernel.accessAllowed ? 'block' : 'none';\n",
              "\n",
              "        async function convertToInteractive(key) {\n",
              "          const element = document.querySelector('#df-075796ac-f3fa-41e2-9d5a-e2a478887d6d');\n",
              "          const dataTable =\n",
              "            await google.colab.kernel.invokeFunction('convertToInteractive',\n",
              "                                                     [key], {});\n",
              "          if (!dataTable) return;\n",
              "\n",
              "          const docLinkHtml = 'Like what you see? Visit the ' +\n",
              "            '<a target=\"_blank\" href=https://colab.research.google.com/notebooks/data_table.ipynb>data table notebook</a>'\n",
              "            + ' to learn more about interactive tables.';\n",
              "          element.innerHTML = '';\n",
              "          dataTable['output_type'] = 'display_data';\n",
              "          await google.colab.output.renderOutput(dataTable, element);\n",
              "          const docLink = document.createElement('div');\n",
              "          docLink.innerHTML = docLinkHtml;\n",
              "          element.appendChild(docLink);\n",
              "        }\n",
              "      </script>\n",
              "    </div>\n",
              "  </div>\n",
              "  "
            ]
          },
          "metadata": {},
          "execution_count": 42
        }
      ]
    },
    {
      "cell_type": "code",
      "source": [
        "#Create a time series line plot for the values in test_predictions using plotly express. \n",
        "fig = px.line(df_pred_test,labels={\"value\":\"P2\"})\n",
        "fig.show()"
      ],
      "metadata": {
        "colab": {
          "base_uri": "https://localhost:8080/",
          "height": 542
        },
        "id": "g3FoiQ-I5d0b",
        "outputId": "7bc8f9dd-f8b0-4c79-980e-6cc7cb014fab"
      },
      "execution_count": 43,
      "outputs": [
        {
          "output_type": "display_data",
          "data": {
            "text/html": [
              "<html>\n",
              "<head><meta charset=\"utf-8\" /></head>\n",
              "<body>\n",
              "    <div>            <script src=\"https://cdnjs.cloudflare.com/ajax/libs/mathjax/2.7.5/MathJax.js?config=TeX-AMS-MML_SVG\"></script><script type=\"text/javascript\">if (window.MathJax && window.MathJax.Hub && window.MathJax.Hub.Config) {window.MathJax.Hub.Config({SVG: {font: \"STIX-Web\"}});}</script>                <script type=\"text/javascript\">window.PlotlyConfig = {MathJaxConfig: 'local'};</script>\n",
              "        <script src=\"https://cdn.plot.ly/plotly-2.18.2.min.js\"></script>                <div id=\"f97f6af2-ceff-4fba-bb1c-84f5fb627859\" class=\"plotly-graph-div\" style=\"height:525px; width:100%;\"></div>            <script type=\"text/javascript\">                                    window.PLOTLYENV=window.PLOTLYENV || {};                                    if (document.getElementById(\"f97f6af2-ceff-4fba-bb1c-84f5fb627859\")) {                    Plotly.newPlot(                        \"f97f6af2-ceff-4fba-bb1c-84f5fb627859\",                        [{\"hovertemplate\":\"variable=y_test<br>timestamp=%{x}<br>P2=%{y}<extra></extra>\",\"legendgroup\":\"y_test\",\"line\":{\"color\":\"#636efa\",\"dash\":\"solid\"},\"marker\":{\"symbol\":\"circle\"},\"mode\":\"lines\",\"name\":\"y_test\",\"orientation\":\"v\",\"showlegend\":true,\"x\":[\"2018-09-25T03:00:00+03:00\",\"2018-09-25T04:00:00+03:00\",\"2018-09-25T05:00:00+03:00\",\"2018-09-25T06:00:00+03:00\",\"2018-09-25T07:00:00+03:00\",\"2018-09-25T08:00:00+03:00\",\"2018-09-25T09:00:00+03:00\",\"2018-09-25T10:00:00+03:00\",\"2018-09-25T11:00:00+03:00\",\"2018-09-25T12:00:00+03:00\",\"2018-09-25T13:00:00+03:00\",\"2018-09-25T14:00:00+03:00\",\"2018-09-25T15:00:00+03:00\",\"2018-09-25T16:00:00+03:00\",\"2018-09-25T17:00:00+03:00\",\"2018-09-25T18:00:00+03:00\",\"2018-09-25T19:00:00+03:00\",\"2018-09-25T20:00:00+03:00\",\"2018-09-25T21:00:00+03:00\",\"2018-09-25T22:00:00+03:00\",\"2018-09-25T23:00:00+03:00\",\"2018-09-26T00:00:00+03:00\",\"2018-09-26T01:00:00+03:00\",\"2018-09-26T02:00:00+03:00\",\"2018-09-26T03:00:00+03:00\",\"2018-09-26T04:00:00+03:00\",\"2018-09-26T05:00:00+03:00\",\"2018-09-26T06:00:00+03:00\",\"2018-09-26T07:00:00+03:00\",\"2018-09-26T08:00:00+03:00\",\"2018-09-26T09:00:00+03:00\",\"2018-09-26T10:00:00+03:00\",\"2018-09-26T11:00:00+03:00\",\"2018-09-26T12:00:00+03:00\",\"2018-09-26T13:00:00+03:00\",\"2018-09-26T14:00:00+03:00\",\"2018-09-26T15:00:00+03:00\",\"2018-09-26T16:00:00+03:00\",\"2018-09-26T17:00:00+03:00\",\"2018-09-26T18:00:00+03:00\",\"2018-09-26T19:00:00+03:00\",\"2018-09-26T20:00:00+03:00\",\"2018-09-26T21:00:00+03:00\",\"2018-09-26T22:00:00+03:00\",\"2018-09-26T23:00:00+03:00\",\"2018-09-27T00:00:00+03:00\",\"2018-09-27T01:00:00+03:00\",\"2018-09-27T02:00:00+03:00\",\"2018-09-27T03:00:00+03:00\",\"2018-09-27T04:00:00+03:00\",\"2018-09-27T05:00:00+03:00\",\"2018-09-27T06:00:00+03:00\",\"2018-09-27T07:00:00+03:00\",\"2018-09-27T08:00:00+03:00\",\"2018-09-27T09:00:00+03:00\",\"2018-09-27T10:00:00+03:00\",\"2018-09-27T11:00:00+03:00\",\"2018-09-27T12:00:00+03:00\",\"2018-09-27T13:00:00+03:00\",\"2018-09-27T14:00:00+03:00\",\"2018-09-27T15:00:00+03:00\",\"2018-09-27T16:00:00+03:00\",\"2018-09-27T17:00:00+03:00\",\"2018-09-27T18:00:00+03:00\",\"2018-09-27T19:00:00+03:00\",\"2018-09-27T20:00:00+03:00\",\"2018-09-27T21:00:00+03:00\",\"2018-09-27T22:00:00+03:00\",\"2018-09-27T23:00:00+03:00\",\"2018-09-28T00:00:00+03:00\",\"2018-09-28T01:00:00+03:00\",\"2018-09-28T02:00:00+03:00\",\"2018-09-28T03:00:00+03:00\",\"2018-09-28T04:00:00+03:00\",\"2018-09-28T05:00:00+03:00\",\"2018-09-28T06:00:00+03:00\",\"2018-09-28T07:00:00+03:00\",\"2018-09-28T08:00:00+03:00\",\"2018-09-28T09:00:00+03:00\",\"2018-09-28T10:00:00+03:00\",\"2018-09-28T11:00:00+03:00\",\"2018-09-28T12:00:00+03:00\",\"2018-09-28T13:00:00+03:00\",\"2018-09-28T14:00:00+03:00\",\"2018-09-28T15:00:00+03:00\",\"2018-09-28T16:00:00+03:00\",\"2018-09-28T17:00:00+03:00\",\"2018-09-28T18:00:00+03:00\",\"2018-09-28T19:00:00+03:00\",\"2018-09-28T20:00:00+03:00\",\"2018-09-28T21:00:00+03:00\",\"2018-09-28T22:00:00+03:00\",\"2018-09-28T23:00:00+03:00\",\"2018-09-29T00:00:00+03:00\",\"2018-09-29T01:00:00+03:00\",\"2018-09-29T02:00:00+03:00\",\"2018-09-29T03:00:00+03:00\",\"2018-09-29T04:00:00+03:00\",\"2018-09-29T05:00:00+03:00\",\"2018-09-29T06:00:00+03:00\",\"2018-09-29T07:00:00+03:00\",\"2018-09-29T08:00:00+03:00\",\"2018-09-29T09:00:00+03:00\",\"2018-09-29T10:00:00+03:00\",\"2018-09-29T11:00:00+03:00\",\"2018-09-29T12:00:00+03:00\",\"2018-09-29T13:00:00+03:00\",\"2018-09-29T14:00:00+03:00\",\"2018-09-29T15:00:00+03:00\",\"2018-09-29T16:00:00+03:00\",\"2018-09-29T17:00:00+03:00\",\"2018-09-29T18:00:00+03:00\",\"2018-09-29T19:00:00+03:00\",\"2018-09-29T20:00:00+03:00\",\"2018-09-29T21:00:00+03:00\",\"2018-09-29T22:00:00+03:00\",\"2018-09-29T23:00:00+03:00\",\"2018-09-30T00:00:00+03:00\",\"2018-09-30T01:00:00+03:00\",\"2018-09-30T02:00:00+03:00\",\"2018-09-30T03:00:00+03:00\",\"2018-09-30T04:00:00+03:00\",\"2018-09-30T05:00:00+03:00\",\"2018-09-30T06:00:00+03:00\",\"2018-09-30T07:00:00+03:00\",\"2018-09-30T08:00:00+03:00\",\"2018-09-30T09:00:00+03:00\",\"2018-09-30T10:00:00+03:00\",\"2018-09-30T11:00:00+03:00\",\"2018-09-30T12:00:00+03:00\",\"2018-09-30T13:00:00+03:00\",\"2018-09-30T14:00:00+03:00\",\"2018-09-30T15:00:00+03:00\",\"2018-09-30T16:00:00+03:00\",\"2018-09-30T17:00:00+03:00\",\"2018-09-30T18:00:00+03:00\",\"2018-09-30T19:00:00+03:00\",\"2018-09-30T20:00:00+03:00\",\"2018-09-30T21:00:00+03:00\",\"2018-09-30T22:00:00+03:00\",\"2018-09-30T23:00:00+03:00\",\"2018-10-01T00:00:00+03:00\",\"2018-10-01T01:00:00+03:00\",\"2018-10-01T02:00:00+03:00\"],\"xaxis\":\"x\",\"y\":[0.9706886574881417,1.0249410494952134,1.4014554486955915,2.1478983306884762,3.3710412227746205,6.319588001308157,4.098645956549845,4.160474966297978,15.868983363275944,9.504953914476479,6.237641960670208,4.298077462406481,4.276629386570143,4.233950791318192,8.292456462892712,5.88390894528093,5.558261518807247,5.591418752837599,7.039855496659238,3.8182586064831963,2.9779364717923675,3.558003893885119,3.105651165562817,2.6772406419657044,2.415432612101237,2.2996974544201865,2.706574761256699,4.156544470469156,5.673131875506901,9.531034468963368,8.794776204427082,6.733519044240316,6.4751111796750855,5.514616631825764,4.191009227848855,3.8042832150666612,3.7443956489236947,5.065642269358916,9.320167496879145,7.021072397064745,5.595696170806885,4.02613358319816,4.171428583780925,3.5732934967810364,2.8693557103474934,2.033324253922802,1.5674924443562825,1.2792439875326864,1.3326025225321452,1.5306844323422728,1.7825510470072428,4.121410624186198,6.101787181854248,10.466475241709562,7.639939983592314,6.003919098717826,4.237927411950153,3.779405475963246,5.510930102804433,5.119638576682554,4.390749274513938,3.486105263157895,4.054787234042553,5.7928125,8.71357894736842,10.692083333333334,10.24958762886598,9.077187499999999,8.910842105263157,7.1198958333333335,7.702680412371134,8.96010752688172,8.2190625,7.4365625,7.93701030927835,15.818229166666667,12.298333333333334,13.288842105263159,12.300416666666665,6.356736842105263,6.915578947368421,5.4287368421052635,4.58010989010989,3.8524358974358974,6.3574226804123715,4.112708333333333,3.9003157894736846,4.269166666666666,5.8420000000000005,6.149166666666667,6.820208333333333,6.8603125,6.274842105263158,6.022395833333333,6.6805208333333335,6.35340206185567,5.3096875,4.9959375,5.0521875,8.54808510638298,8.866458333333332,8.243157894736843,10.282631578947369,8.990833333333333,10.851186440677967,11.415479452054795,8.280138888888889,5.789861111111112,7.305416666666667,6.188611111111111,6.246527777777778,8.615753424657536,10.954166666666667,10.357746478873239,7.600422535211267,7.409722222222222,7.33263888888889,6.7526027397260275,6.695833333333334,6.653194444444444,6.223472222222222,5.807777777777778,5.928082191780822,7.389722222222222,6.804722222222222,7.0929166666666665,8.644444444444444,10.981944444444444,8.525833333333333,6.270416666666666,5.9631944444444445,5.307534246575342,5.642777777777777,6.275138888888889,6.710833333333333,8.310547945205478,10.221527777777778,10.34388888888889,9.693055555555555,9.268169014084506,8.506712328767124,7.336805555555555,6.716760563380282,8.617222222222223],\"yaxis\":\"y\",\"type\":\"scatter\"},{\"hovertemplate\":\"variable=y_pred<br>timestamp=%{x}<br>P2=%{y}<extra></extra>\",\"legendgroup\":\"y_pred\",\"line\":{\"color\":\"#EF553B\",\"dash\":\"solid\"},\"marker\":{\"symbol\":\"circle\"},\"mode\":\"lines\",\"name\":\"y_pred\",\"orientation\":\"v\",\"showlegend\":true,\"x\":[\"2018-09-25T03:00:00+03:00\",\"2018-09-25T04:00:00+03:00\",\"2018-09-25T05:00:00+03:00\",\"2018-09-25T06:00:00+03:00\",\"2018-09-25T07:00:00+03:00\",\"2018-09-25T08:00:00+03:00\",\"2018-09-25T09:00:00+03:00\",\"2018-09-25T10:00:00+03:00\",\"2018-09-25T11:00:00+03:00\",\"2018-09-25T12:00:00+03:00\",\"2018-09-25T13:00:00+03:00\",\"2018-09-25T14:00:00+03:00\",\"2018-09-25T15:00:00+03:00\",\"2018-09-25T16:00:00+03:00\",\"2018-09-25T17:00:00+03:00\",\"2018-09-25T18:00:00+03:00\",\"2018-09-25T19:00:00+03:00\",\"2018-09-25T20:00:00+03:00\",\"2018-09-25T21:00:00+03:00\",\"2018-09-25T22:00:00+03:00\",\"2018-09-25T23:00:00+03:00\",\"2018-09-26T00:00:00+03:00\",\"2018-09-26T01:00:00+03:00\",\"2018-09-26T02:00:00+03:00\",\"2018-09-26T03:00:00+03:00\",\"2018-09-26T04:00:00+03:00\",\"2018-09-26T05:00:00+03:00\",\"2018-09-26T06:00:00+03:00\",\"2018-09-26T07:00:00+03:00\",\"2018-09-26T08:00:00+03:00\",\"2018-09-26T09:00:00+03:00\",\"2018-09-26T10:00:00+03:00\",\"2018-09-26T11:00:00+03:00\",\"2018-09-26T12:00:00+03:00\",\"2018-09-26T13:00:00+03:00\",\"2018-09-26T14:00:00+03:00\",\"2018-09-26T15:00:00+03:00\",\"2018-09-26T16:00:00+03:00\",\"2018-09-26T17:00:00+03:00\",\"2018-09-26T18:00:00+03:00\",\"2018-09-26T19:00:00+03:00\",\"2018-09-26T20:00:00+03:00\",\"2018-09-26T21:00:00+03:00\",\"2018-09-26T22:00:00+03:00\",\"2018-09-26T23:00:00+03:00\",\"2018-09-27T00:00:00+03:00\",\"2018-09-27T01:00:00+03:00\",\"2018-09-27T02:00:00+03:00\",\"2018-09-27T03:00:00+03:00\",\"2018-09-27T04:00:00+03:00\",\"2018-09-27T05:00:00+03:00\",\"2018-09-27T06:00:00+03:00\",\"2018-09-27T07:00:00+03:00\",\"2018-09-27T08:00:00+03:00\",\"2018-09-27T09:00:00+03:00\",\"2018-09-27T10:00:00+03:00\",\"2018-09-27T11:00:00+03:00\",\"2018-09-27T12:00:00+03:00\",\"2018-09-27T13:00:00+03:00\",\"2018-09-27T14:00:00+03:00\",\"2018-09-27T15:00:00+03:00\",\"2018-09-27T16:00:00+03:00\",\"2018-09-27T17:00:00+03:00\",\"2018-09-27T18:00:00+03:00\",\"2018-09-27T19:00:00+03:00\",\"2018-09-27T20:00:00+03:00\",\"2018-09-27T21:00:00+03:00\",\"2018-09-27T22:00:00+03:00\",\"2018-09-27T23:00:00+03:00\",\"2018-09-28T00:00:00+03:00\",\"2018-09-28T01:00:00+03:00\",\"2018-09-28T02:00:00+03:00\",\"2018-09-28T03:00:00+03:00\",\"2018-09-28T04:00:00+03:00\",\"2018-09-28T05:00:00+03:00\",\"2018-09-28T06:00:00+03:00\",\"2018-09-28T07:00:00+03:00\",\"2018-09-28T08:00:00+03:00\",\"2018-09-28T09:00:00+03:00\",\"2018-09-28T10:00:00+03:00\",\"2018-09-28T11:00:00+03:00\",\"2018-09-28T12:00:00+03:00\",\"2018-09-28T13:00:00+03:00\",\"2018-09-28T14:00:00+03:00\",\"2018-09-28T15:00:00+03:00\",\"2018-09-28T16:00:00+03:00\",\"2018-09-28T17:00:00+03:00\",\"2018-09-28T18:00:00+03:00\",\"2018-09-28T19:00:00+03:00\",\"2018-09-28T20:00:00+03:00\",\"2018-09-28T21:00:00+03:00\",\"2018-09-28T22:00:00+03:00\",\"2018-09-28T23:00:00+03:00\",\"2018-09-29T00:00:00+03:00\",\"2018-09-29T01:00:00+03:00\",\"2018-09-29T02:00:00+03:00\",\"2018-09-29T03:00:00+03:00\",\"2018-09-29T04:00:00+03:00\",\"2018-09-29T05:00:00+03:00\",\"2018-09-29T06:00:00+03:00\",\"2018-09-29T07:00:00+03:00\",\"2018-09-29T08:00:00+03:00\",\"2018-09-29T09:00:00+03:00\",\"2018-09-29T10:00:00+03:00\",\"2018-09-29T11:00:00+03:00\",\"2018-09-29T12:00:00+03:00\",\"2018-09-29T13:00:00+03:00\",\"2018-09-29T14:00:00+03:00\",\"2018-09-29T15:00:00+03:00\",\"2018-09-29T16:00:00+03:00\",\"2018-09-29T17:00:00+03:00\",\"2018-09-29T18:00:00+03:00\",\"2018-09-29T19:00:00+03:00\",\"2018-09-29T20:00:00+03:00\",\"2018-09-29T21:00:00+03:00\",\"2018-09-29T22:00:00+03:00\",\"2018-09-29T23:00:00+03:00\",\"2018-09-30T00:00:00+03:00\",\"2018-09-30T01:00:00+03:00\",\"2018-09-30T02:00:00+03:00\",\"2018-09-30T03:00:00+03:00\",\"2018-09-30T04:00:00+03:00\",\"2018-09-30T05:00:00+03:00\",\"2018-09-30T06:00:00+03:00\",\"2018-09-30T07:00:00+03:00\",\"2018-09-30T08:00:00+03:00\",\"2018-09-30T09:00:00+03:00\",\"2018-09-30T10:00:00+03:00\",\"2018-09-30T11:00:00+03:00\",\"2018-09-30T12:00:00+03:00\",\"2018-09-30T13:00:00+03:00\",\"2018-09-30T14:00:00+03:00\",\"2018-09-30T15:00:00+03:00\",\"2018-09-30T16:00:00+03:00\",\"2018-09-30T17:00:00+03:00\",\"2018-09-30T18:00:00+03:00\",\"2018-09-30T19:00:00+03:00\",\"2018-09-30T20:00:00+03:00\",\"2018-09-30T21:00:00+03:00\",\"2018-09-30T22:00:00+03:00\",\"2018-09-30T23:00:00+03:00\",\"2018-10-01T00:00:00+03:00\",\"2018-10-01T01:00:00+03:00\",\"2018-10-01T02:00:00+03:00\"],\"xaxis\":\"x\",\"y\":[3.1888099679629645,3.2471135896990693,3.282253303286326,3.5261247283039503,4.009601826955333,4.801841382007458,6.711639004991373,5.273116859524853,5.31316400977124,12.896859702860068,8.774826299014375,6.658561890949067,5.402290260674871,5.388398168289553,5.360754896574189,7.989481881972292,6.4294461526878735,6.2185216777777,6.239997886734908,7.178162093771471,5.091507702576573,4.5472242518078225,4.922938617931638,4.629946093075077,4.3524611280802254,4.182885947264563,4.107923348521304,4.371461074664803,5.310618195797495,6.292924137922973,8.791718885331061,8.314838445871665,6.979745493118469,6.812372626898428,6.190252531085005,5.332941298215156,5.082455728396654,5.043666066893296,5.899448201147815,8.655138640111904,7.165996128076439,6.242768404988077,5.226150008168727,5.320258756506922,4.9328418175279864,4.476895613436232,3.9353912697222917,3.6336682348030696,3.4469673753565475,3.4815281305223693,3.6098273873853186,3.7729634330801396,5.287861719079547,6.570567650687169,9.397611448148542,7.566841674871518,6.507177700797044,5.363330585956401,5.066342215343099,6.1878647363878825,5.934422046612082,5.462314543745075,4.876369292642878,5.2447092098306545,6.370442247467034,8.2622463250166,9.543739635853033,9.257131585160126,8.49775852871234,8.390015269634475,7.23000486792581,7.607479158603886,8.421924882121353,7.941944017932168,7.435112431991326,7.759256530211347,12.863985798757023,10.584120766737989,11.225681318514996,10.585470158606839,6.7357006099716425,7.097667166522499,6.134627495910172,5.584964947728755,5.1136446106618365,6.736144832996423,5.282225174831272,5.144656804420543,5.383564504182063,6.402301389490631,6.601255726634182,7.035894847591438,7.06187064106684,6.682656725813314,6.519145231414534,6.945418122784906,6.733540645802102,6.057518273080236,5.854299857631112,5.890733438090118,8.15505462419859,8.361267541177952,7.957550800204813,9.278534419186325,8.441826235748422,9.646792006745809,10.012289159322743,7.981503689554015,6.368530608986161,7.350168213847088,6.626804212684449,6.664317306638536,8.198883941858709,9.713493132954625,9.327186948077337,7.541245903580398,7.417727766747616,7.367800267600089,6.992106157206182,6.955336153020969,6.927718599438462,6.64938403662324,6.380135379058288,6.458057522118795,7.4047736048066355,7.025864368032971,7.212530243224175,8.217467347687283,9.731485024539317,8.140641970620637,6.679790333401373,6.480800012474653,6.056123593402086,6.273263543045203,6.682848954970772,6.965051774476704,8.00119988155389,9.238956992408308,9.318211274838887,8.896661255009498,8.621458801771553,8.128257141139393,7.370499051337792,6.968890889371185],\"yaxis\":\"y\",\"type\":\"scatter\"}],                        {\"template\":{\"data\":{\"histogram2dcontour\":[{\"type\":\"histogram2dcontour\",\"colorbar\":{\"outlinewidth\":0,\"ticks\":\"\"},\"colorscale\":[[0.0,\"#0d0887\"],[0.1111111111111111,\"#46039f\"],[0.2222222222222222,\"#7201a8\"],[0.3333333333333333,\"#9c179e\"],[0.4444444444444444,\"#bd3786\"],[0.5555555555555556,\"#d8576b\"],[0.6666666666666666,\"#ed7953\"],[0.7777777777777778,\"#fb9f3a\"],[0.8888888888888888,\"#fdca26\"],[1.0,\"#f0f921\"]]}],\"choropleth\":[{\"type\":\"choropleth\",\"colorbar\":{\"outlinewidth\":0,\"ticks\":\"\"}}],\"histogram2d\":[{\"type\":\"histogram2d\",\"colorbar\":{\"outlinewidth\":0,\"ticks\":\"\"},\"colorscale\":[[0.0,\"#0d0887\"],[0.1111111111111111,\"#46039f\"],[0.2222222222222222,\"#7201a8\"],[0.3333333333333333,\"#9c179e\"],[0.4444444444444444,\"#bd3786\"],[0.5555555555555556,\"#d8576b\"],[0.6666666666666666,\"#ed7953\"],[0.7777777777777778,\"#fb9f3a\"],[0.8888888888888888,\"#fdca26\"],[1.0,\"#f0f921\"]]}],\"heatmap\":[{\"type\":\"heatmap\",\"colorbar\":{\"outlinewidth\":0,\"ticks\":\"\"},\"colorscale\":[[0.0,\"#0d0887\"],[0.1111111111111111,\"#46039f\"],[0.2222222222222222,\"#7201a8\"],[0.3333333333333333,\"#9c179e\"],[0.4444444444444444,\"#bd3786\"],[0.5555555555555556,\"#d8576b\"],[0.6666666666666666,\"#ed7953\"],[0.7777777777777778,\"#fb9f3a\"],[0.8888888888888888,\"#fdca26\"],[1.0,\"#f0f921\"]]}],\"heatmapgl\":[{\"type\":\"heatmapgl\",\"colorbar\":{\"outlinewidth\":0,\"ticks\":\"\"},\"colorscale\":[[0.0,\"#0d0887\"],[0.1111111111111111,\"#46039f\"],[0.2222222222222222,\"#7201a8\"],[0.3333333333333333,\"#9c179e\"],[0.4444444444444444,\"#bd3786\"],[0.5555555555555556,\"#d8576b\"],[0.6666666666666666,\"#ed7953\"],[0.7777777777777778,\"#fb9f3a\"],[0.8888888888888888,\"#fdca26\"],[1.0,\"#f0f921\"]]}],\"contourcarpet\":[{\"type\":\"contourcarpet\",\"colorbar\":{\"outlinewidth\":0,\"ticks\":\"\"}}],\"contour\":[{\"type\":\"contour\",\"colorbar\":{\"outlinewidth\":0,\"ticks\":\"\"},\"colorscale\":[[0.0,\"#0d0887\"],[0.1111111111111111,\"#46039f\"],[0.2222222222222222,\"#7201a8\"],[0.3333333333333333,\"#9c179e\"],[0.4444444444444444,\"#bd3786\"],[0.5555555555555556,\"#d8576b\"],[0.6666666666666666,\"#ed7953\"],[0.7777777777777778,\"#fb9f3a\"],[0.8888888888888888,\"#fdca26\"],[1.0,\"#f0f921\"]]}],\"surface\":[{\"type\":\"surface\",\"colorbar\":{\"outlinewidth\":0,\"ticks\":\"\"},\"colorscale\":[[0.0,\"#0d0887\"],[0.1111111111111111,\"#46039f\"],[0.2222222222222222,\"#7201a8\"],[0.3333333333333333,\"#9c179e\"],[0.4444444444444444,\"#bd3786\"],[0.5555555555555556,\"#d8576b\"],[0.6666666666666666,\"#ed7953\"],[0.7777777777777778,\"#fb9f3a\"],[0.8888888888888888,\"#fdca26\"],[1.0,\"#f0f921\"]]}],\"mesh3d\":[{\"type\":\"mesh3d\",\"colorbar\":{\"outlinewidth\":0,\"ticks\":\"\"}}],\"scatter\":[{\"fillpattern\":{\"fillmode\":\"overlay\",\"size\":10,\"solidity\":0.2},\"type\":\"scatter\"}],\"parcoords\":[{\"type\":\"parcoords\",\"line\":{\"colorbar\":{\"outlinewidth\":0,\"ticks\":\"\"}}}],\"scatterpolargl\":[{\"type\":\"scatterpolargl\",\"marker\":{\"colorbar\":{\"outlinewidth\":0,\"ticks\":\"\"}}}],\"bar\":[{\"error_x\":{\"color\":\"#2a3f5f\"},\"error_y\":{\"color\":\"#2a3f5f\"},\"marker\":{\"line\":{\"color\":\"#E5ECF6\",\"width\":0.5},\"pattern\":{\"fillmode\":\"overlay\",\"size\":10,\"solidity\":0.2}},\"type\":\"bar\"}],\"scattergeo\":[{\"type\":\"scattergeo\",\"marker\":{\"colorbar\":{\"outlinewidth\":0,\"ticks\":\"\"}}}],\"scatterpolar\":[{\"type\":\"scatterpolar\",\"marker\":{\"colorbar\":{\"outlinewidth\":0,\"ticks\":\"\"}}}],\"histogram\":[{\"marker\":{\"pattern\":{\"fillmode\":\"overlay\",\"size\":10,\"solidity\":0.2}},\"type\":\"histogram\"}],\"scattergl\":[{\"type\":\"scattergl\",\"marker\":{\"colorbar\":{\"outlinewidth\":0,\"ticks\":\"\"}}}],\"scatter3d\":[{\"type\":\"scatter3d\",\"line\":{\"colorbar\":{\"outlinewidth\":0,\"ticks\":\"\"}},\"marker\":{\"colorbar\":{\"outlinewidth\":0,\"ticks\":\"\"}}}],\"scattermapbox\":[{\"type\":\"scattermapbox\",\"marker\":{\"colorbar\":{\"outlinewidth\":0,\"ticks\":\"\"}}}],\"scatterternary\":[{\"type\":\"scatterternary\",\"marker\":{\"colorbar\":{\"outlinewidth\":0,\"ticks\":\"\"}}}],\"scattercarpet\":[{\"type\":\"scattercarpet\",\"marker\":{\"colorbar\":{\"outlinewidth\":0,\"ticks\":\"\"}}}],\"carpet\":[{\"aaxis\":{\"endlinecolor\":\"#2a3f5f\",\"gridcolor\":\"white\",\"linecolor\":\"white\",\"minorgridcolor\":\"white\",\"startlinecolor\":\"#2a3f5f\"},\"baxis\":{\"endlinecolor\":\"#2a3f5f\",\"gridcolor\":\"white\",\"linecolor\":\"white\",\"minorgridcolor\":\"white\",\"startlinecolor\":\"#2a3f5f\"},\"type\":\"carpet\"}],\"table\":[{\"cells\":{\"fill\":{\"color\":\"#EBF0F8\"},\"line\":{\"color\":\"white\"}},\"header\":{\"fill\":{\"color\":\"#C8D4E3\"},\"line\":{\"color\":\"white\"}},\"type\":\"table\"}],\"barpolar\":[{\"marker\":{\"line\":{\"color\":\"#E5ECF6\",\"width\":0.5},\"pattern\":{\"fillmode\":\"overlay\",\"size\":10,\"solidity\":0.2}},\"type\":\"barpolar\"}],\"pie\":[{\"automargin\":true,\"type\":\"pie\"}]},\"layout\":{\"autotypenumbers\":\"strict\",\"colorway\":[\"#636efa\",\"#EF553B\",\"#00cc96\",\"#ab63fa\",\"#FFA15A\",\"#19d3f3\",\"#FF6692\",\"#B6E880\",\"#FF97FF\",\"#FECB52\"],\"font\":{\"color\":\"#2a3f5f\"},\"hovermode\":\"closest\",\"hoverlabel\":{\"align\":\"left\"},\"paper_bgcolor\":\"white\",\"plot_bgcolor\":\"#E5ECF6\",\"polar\":{\"bgcolor\":\"#E5ECF6\",\"angularaxis\":{\"gridcolor\":\"white\",\"linecolor\":\"white\",\"ticks\":\"\"},\"radialaxis\":{\"gridcolor\":\"white\",\"linecolor\":\"white\",\"ticks\":\"\"}},\"ternary\":{\"bgcolor\":\"#E5ECF6\",\"aaxis\":{\"gridcolor\":\"white\",\"linecolor\":\"white\",\"ticks\":\"\"},\"baxis\":{\"gridcolor\":\"white\",\"linecolor\":\"white\",\"ticks\":\"\"},\"caxis\":{\"gridcolor\":\"white\",\"linecolor\":\"white\",\"ticks\":\"\"}},\"coloraxis\":{\"colorbar\":{\"outlinewidth\":0,\"ticks\":\"\"}},\"colorscale\":{\"sequential\":[[0.0,\"#0d0887\"],[0.1111111111111111,\"#46039f\"],[0.2222222222222222,\"#7201a8\"],[0.3333333333333333,\"#9c179e\"],[0.4444444444444444,\"#bd3786\"],[0.5555555555555556,\"#d8576b\"],[0.6666666666666666,\"#ed7953\"],[0.7777777777777778,\"#fb9f3a\"],[0.8888888888888888,\"#fdca26\"],[1.0,\"#f0f921\"]],\"sequentialminus\":[[0.0,\"#0d0887\"],[0.1111111111111111,\"#46039f\"],[0.2222222222222222,\"#7201a8\"],[0.3333333333333333,\"#9c179e\"],[0.4444444444444444,\"#bd3786\"],[0.5555555555555556,\"#d8576b\"],[0.6666666666666666,\"#ed7953\"],[0.7777777777777778,\"#fb9f3a\"],[0.8888888888888888,\"#fdca26\"],[1.0,\"#f0f921\"]],\"diverging\":[[0,\"#8e0152\"],[0.1,\"#c51b7d\"],[0.2,\"#de77ae\"],[0.3,\"#f1b6da\"],[0.4,\"#fde0ef\"],[0.5,\"#f7f7f7\"],[0.6,\"#e6f5d0\"],[0.7,\"#b8e186\"],[0.8,\"#7fbc41\"],[0.9,\"#4d9221\"],[1,\"#276419\"]]},\"xaxis\":{\"gridcolor\":\"white\",\"linecolor\":\"white\",\"ticks\":\"\",\"title\":{\"standoff\":15},\"zerolinecolor\":\"white\",\"automargin\":true,\"zerolinewidth\":2},\"yaxis\":{\"gridcolor\":\"white\",\"linecolor\":\"white\",\"ticks\":\"\",\"title\":{\"standoff\":15},\"zerolinecolor\":\"white\",\"automargin\":true,\"zerolinewidth\":2},\"scene\":{\"xaxis\":{\"backgroundcolor\":\"#E5ECF6\",\"gridcolor\":\"white\",\"linecolor\":\"white\",\"showbackground\":true,\"ticks\":\"\",\"zerolinecolor\":\"white\",\"gridwidth\":2},\"yaxis\":{\"backgroundcolor\":\"#E5ECF6\",\"gridcolor\":\"white\",\"linecolor\":\"white\",\"showbackground\":true,\"ticks\":\"\",\"zerolinecolor\":\"white\",\"gridwidth\":2},\"zaxis\":{\"backgroundcolor\":\"#E5ECF6\",\"gridcolor\":\"white\",\"linecolor\":\"white\",\"showbackground\":true,\"ticks\":\"\",\"zerolinecolor\":\"white\",\"gridwidth\":2}},\"shapedefaults\":{\"line\":{\"color\":\"#2a3f5f\"}},\"annotationdefaults\":{\"arrowcolor\":\"#2a3f5f\",\"arrowhead\":0,\"arrowwidth\":1},\"geo\":{\"bgcolor\":\"white\",\"landcolor\":\"#E5ECF6\",\"subunitcolor\":\"white\",\"showland\":true,\"showlakes\":true,\"lakecolor\":\"white\"},\"title\":{\"x\":0.05},\"mapbox\":{\"style\":\"light\"}}},\"xaxis\":{\"anchor\":\"y\",\"domain\":[0.0,1.0],\"title\":{\"text\":\"timestamp\"}},\"yaxis\":{\"anchor\":\"x\",\"domain\":[0.0,1.0],\"title\":{\"text\":\"P2\"}},\"legend\":{\"title\":{\"text\":\"variable\"},\"tracegroupgap\":0},\"margin\":{\"t\":60}},                        {\"responsive\": true}                    ).then(function(){\n",
              "                            \n",
              "var gd = document.getElementById('f97f6af2-ceff-4fba-bb1c-84f5fb627859');\n",
              "var x = new MutationObserver(function (mutations, observer) {{\n",
              "        var display = window.getComputedStyle(gd).display;\n",
              "        if (!display || display === 'none') {{\n",
              "            console.log([gd, 'removed!']);\n",
              "            Plotly.purge(gd);\n",
              "            observer.disconnect();\n",
              "        }}\n",
              "}});\n",
              "\n",
              "// Listen for the removal of the full notebook cells\n",
              "var notebookContainer = gd.closest('#notebook-container');\n",
              "if (notebookContainer) {{\n",
              "    x.observe(notebookContainer, {childList: true});\n",
              "}}\n",
              "\n",
              "// Listen for the clearing of the current output cell\n",
              "var outputEl = gd.closest('.output');\n",
              "if (outputEl) {{\n",
              "    x.observe(outputEl, {childList: true});\n",
              "}}\n",
              "\n",
              "                        })                };                            </script>        </div>\n",
              "</body>\n",
              "</html>"
            ]
          },
          "metadata": {}
        }
      ]
    }
  ]
}